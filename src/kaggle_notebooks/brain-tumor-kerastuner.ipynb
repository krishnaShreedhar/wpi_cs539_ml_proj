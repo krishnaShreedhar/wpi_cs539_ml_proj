{
 "cells": [
  {
   "cell_type": "markdown",
   "id": "caf07bad",
   "metadata": {
    "execution": {
     "iopub.execute_input": "2021-10-06T14:51:45.864969Z",
     "iopub.status.busy": "2021-10-06T14:51:45.864214Z",
     "iopub.status.idle": "2021-10-06T14:51:45.888709Z",
     "shell.execute_reply": "2021-10-06T14:51:45.887418Z",
     "shell.execute_reply.started": "2021-10-06T14:51:45.864882Z"
    },
    "papermill": {
     "duration": 0.025645,
     "end_time": "2021-10-12T00:10:19.947665",
     "exception": false,
     "start_time": "2021-10-12T00:10:19.922020",
     "status": "completed"
    },
    "tags": []
   },
   "source": [
    "Learning how to use [KerasTuner](https://keras.io/keras_tuner/) to build a better Tensorflow model.\n",
    "\n",
    "## TODO\n",
    "\n",
    "- Add kfold option\n",
    "\n",
    "## Versions\n",
    "\n",
    "- V13: Trying augmentation. (e.g. experimental.preprocessing.RandomFlip)\n",
    "- V12: Added needed reset_index(drop=True)\n",
    "- V11: Break out submission results to view intermediate values. Add Kfold value but it's unused.\n",
    "- V10: Save model: best_model.save(\"best_model\")\n",
    "- V9: Switching back to make_model. Trying max_trials=15\n",
    "```python\n",
    "tuner = kt.tuners.BayesianOptimization(\n",
    "#     make_model_siren,\n",
    "    make_model,\n",
    "    objective='val_loss',\n",
    "    max_trials=5,  # Set to 5 to run quicker, but need 100+ for good results\n",
    "    overwrite=True)\n",
    "```\n",
    "- V8: Siren Submission: LB: 0.667\n",
    "- V7: Working on Siren Layer: \n",
    "- V6: Full save: max_trials=100\n",
    "- V5: Increasing max_trials from 5 to 100. If Quick Save doesn't work, there will be a V6.\n",
    "```python\n",
    "tuner = kt.tuners.BayesianOptimization(\n",
    "    make_model,\n",
    "    objective='val_loss',\n",
    "    max_trials=5,  # Set to 5 to run quicker, but need 100+ for good results\n",
    "    overwrite=True)\n",
    "```\n",
    "- V4: Tuning filters and units.  LB: 0.702\n",
    "```python\n",
    "    x = layers.Dense(\n",
    "        units=hp.Int('num_dense_units', min_value=16, max_value=64, step=8),\n",
    "        activation='relu'\n",
    "    )(x)\n",
    "```    \n",
    "- V3: Documentation\n",
    "- V2: Documentation\n",
    "- V1: Only tuning Dropout()\n",
    "```python\n",
    "    x = layers.Dropout(\n",
    "        hp.Float('dense_dropout', min_value=0., max_value=0.7)\n",
    "    )(x)\n",
    "```\n",
    "\n",
    "## References\n",
    "\n",
    "- [Keras + KerasTuner best practices](https://www.kaggle.com/fchollet/keras-kerastuner-best-practices)\n",
    "- [MoA: Keras + KerasTuner best practices](https://www.kaggle.com/fchollet/moa-keras-kerastuner-best-practices)\n",
    "- [Deep Learning with Python, Second Edition](https://www.manning.com/books/deep-learning-with-python-second-edition) - Chapter 13\n",
    "- [Jane Street: Neural Network Starter](https://www.kaggle.com/gogo827jz/jane-street-neural-network-starter)\n",
    "- [NN Model tuning with Keras Tuner](https://www.kaggle.com/sirishapb/nn-model-tuning-with-keras-tuner)\n"
   ]
  },
  {
   "cell_type": "markdown",
   "id": "4359f88d",
   "metadata": {
    "papermill": {
     "duration": 0.025178,
     "end_time": "2021-10-12T00:10:19.998379",
     "exception": false,
     "start_time": "2021-10-12T00:10:19.973201",
     "status": "completed"
    },
    "tags": []
   },
   "source": [
    "# Load Libraries"
   ]
  },
  {
   "cell_type": "code",
   "execution_count": 1,
   "id": "effefaeb",
   "metadata": {
    "execution": {
     "iopub.execute_input": "2021-10-12T00:10:20.127092Z",
     "iopub.status.busy": "2021-10-12T00:10:20.126332Z",
     "iopub.status.idle": "2021-10-12T00:10:25.175923Z",
     "shell.execute_reply": "2021-10-12T00:10:25.175279Z",
     "shell.execute_reply.started": "2021-10-11T23:40:59.551648Z"
    },
    "papermill": {
     "duration": 5.153586,
     "end_time": "2021-10-12T00:10:25.176084",
     "exception": false,
     "start_time": "2021-10-12T00:10:20.022498",
     "status": "completed"
    },
    "tags": []
   },
   "outputs": [],
   "source": [
    "import os\n",
    "import glob\n",
    "\n",
    "os.environ['TF_CPP_MIN_LOG_LEVEL'] = '3'\n",
    "\n",
    "import pandas as pd\n",
    "import numpy as np\n",
    "from pathlib import Path\n",
    "\n",
    "import random\n",
    "from tqdm.notebook import tqdm\n",
    "import pydicom # Handle MRI images\n",
    "\n",
    "import cv2  # OpenCV - https://docs.opencv.org/master/d6/d00/tutorial_py_root.html\n",
    "\n",
    "from sklearn.model_selection import train_test_split\n",
    "from sklearn.metrics import roc_auc_score\n",
    "from sklearn import model_selection\n",
    "\n",
    "import tensorflow as tf\n",
    "from tensorflow import keras\n",
    "from tensorflow.keras.utils import to_categorical\n",
    "from tensorflow.keras import layers\n",
    "from tensorflow.keras.initializers import RandomUniform\n"
   ]
  },
  {
   "cell_type": "markdown",
   "id": "55affd79",
   "metadata": {
    "papermill": {
     "duration": 0.025154,
     "end_time": "2021-10-12T00:10:25.226542",
     "exception": false,
     "start_time": "2021-10-12T00:10:25.201388",
     "status": "completed"
    },
    "tags": []
   },
   "source": [
    "# Load Datasets"
   ]
  },
  {
   "cell_type": "code",
   "execution_count": 2,
   "id": "27099107",
   "metadata": {
    "execution": {
     "iopub.execute_input": "2021-10-12T00:10:25.281530Z",
     "iopub.status.busy": "2021-10-12T00:10:25.280971Z",
     "iopub.status.idle": "2021-10-12T00:10:25.310452Z",
     "shell.execute_reply": "2021-10-12T00:10:25.309921Z",
     "shell.execute_reply.started": "2021-10-11T23:41:01.511064Z"
    },
    "papermill": {
     "duration": 0.059201,
     "end_time": "2021-10-12T00:10:25.310577",
     "exception": false,
     "start_time": "2021-10-12T00:10:25.251376",
     "status": "completed"
    },
    "tags": []
   },
   "outputs": [],
   "source": [
    "data_dir = Path('../input/rsna-miccai-brain-tumor-radiogenomic-classification/')\n",
    "\n",
    "mri_types = [\"FLAIR\", \"T1w\", \"T2w\", \"T1wCE\"]\n",
    "excluded_images = [109, 123, 709] # Bad images\n",
    "\n",
    "train_df = pd.read_csv(data_dir / \"train_labels.csv\")\n",
    "test_df = pd.read_csv(data_dir / \"sample_submission.csv\")\n",
    "sample_submission = pd.read_csv(data_dir / \"sample_submission.csv\")\n",
    "\n",
    "train_df = train_df[~train_df.BraTS21ID.isin(excluded_images)].reset_index(drop=True)\n",
    "\n"
   ]
  },
  {
   "cell_type": "markdown",
   "id": "e7ca362d",
   "metadata": {
    "papermill": {
     "duration": 0.024078,
     "end_time": "2021-10-12T00:10:25.359519",
     "exception": false,
     "start_time": "2021-10-12T00:10:25.335441",
     "status": "completed"
    },
    "tags": []
   },
   "source": [
    "# KFold - Future Features"
   ]
  },
  {
   "cell_type": "code",
   "execution_count": 3,
   "id": "2462964d",
   "metadata": {
    "execution": {
     "iopub.execute_input": "2021-10-12T00:10:25.414431Z",
     "iopub.status.busy": "2021-10-12T00:10:25.413549Z",
     "iopub.status.idle": "2021-10-12T00:10:25.415632Z",
     "shell.execute_reply": "2021-10-12T00:10:25.416079Z",
     "shell.execute_reply.started": "2021-10-11T23:41:01.530543Z"
    },
    "papermill": {
     "duration": 0.032423,
     "end_time": "2021-10-12T00:10:25.416234",
     "exception": false,
     "start_time": "2021-10-12T00:10:25.383811",
     "status": "completed"
    },
    "tags": []
   },
   "outputs": [],
   "source": [
    "def create_folds(data, num_splits):\n",
    "    data[\"kfold\"] = -1\n",
    "    kf = model_selection.KFold(n_splits=num_splits, shuffle=True, random_state=42)\n",
    "    for f, (t, v) in enumerate(kf.split(X=data)):\n",
    "        data.loc[v, \"kfold\"] = f\n",
    "    return data"
   ]
  },
  {
   "cell_type": "code",
   "execution_count": 4,
   "id": "aecfdde9",
   "metadata": {
    "execution": {
     "iopub.execute_input": "2021-10-12T00:10:25.468333Z",
     "iopub.status.busy": "2021-10-12T00:10:25.467816Z",
     "iopub.status.idle": "2021-10-12T00:10:25.475041Z",
     "shell.execute_reply": "2021-10-12T00:10:25.474624Z",
     "shell.execute_reply.started": "2021-10-11T23:41:01.541101Z"
    },
    "papermill": {
     "duration": 0.034888,
     "end_time": "2021-10-12T00:10:25.475146",
     "exception": false,
     "start_time": "2021-10-12T00:10:25.440258",
     "status": "completed"
    },
    "tags": []
   },
   "outputs": [],
   "source": [
    "# EPOCHS=20\n",
    "k = 5\n",
    "\n",
    "train_df = create_folds(train_df, k)"
   ]
  },
  {
   "cell_type": "code",
   "execution_count": 5,
   "id": "ece2c4f5",
   "metadata": {
    "execution": {
     "iopub.execute_input": "2021-10-12T00:10:25.528909Z",
     "iopub.status.busy": "2021-10-12T00:10:25.528135Z",
     "iopub.status.idle": "2021-10-12T00:10:25.539266Z",
     "shell.execute_reply": "2021-10-12T00:10:25.539668Z",
     "shell.execute_reply.started": "2021-10-11T23:41:01.553189Z"
    },
    "papermill": {
     "duration": 0.040771,
     "end_time": "2021-10-12T00:10:25.539810",
     "exception": false,
     "start_time": "2021-10-12T00:10:25.499039",
     "status": "completed"
    },
    "tags": []
   },
   "outputs": [
    {
     "data": {
      "text/html": [
       "<div>\n",
       "<style scoped>\n",
       "    .dataframe tbody tr th:only-of-type {\n",
       "        vertical-align: middle;\n",
       "    }\n",
       "\n",
       "    .dataframe tbody tr th {\n",
       "        vertical-align: top;\n",
       "    }\n",
       "\n",
       "    .dataframe thead th {\n",
       "        text-align: right;\n",
       "    }\n",
       "</style>\n",
       "<table border=\"1\" class=\"dataframe\">\n",
       "  <thead>\n",
       "    <tr style=\"text-align: right;\">\n",
       "      <th></th>\n",
       "      <th>BraTS21ID</th>\n",
       "      <th>MGMT_value</th>\n",
       "      <th>kfold</th>\n",
       "    </tr>\n",
       "  </thead>\n",
       "  <tbody>\n",
       "    <tr>\n",
       "      <th>0</th>\n",
       "      <td>0</td>\n",
       "      <td>1</td>\n",
       "      <td>1</td>\n",
       "    </tr>\n",
       "    <tr>\n",
       "      <th>1</th>\n",
       "      <td>2</td>\n",
       "      <td>1</td>\n",
       "      <td>4</td>\n",
       "    </tr>\n",
       "    <tr>\n",
       "      <th>2</th>\n",
       "      <td>3</td>\n",
       "      <td>0</td>\n",
       "      <td>0</td>\n",
       "    </tr>\n",
       "    <tr>\n",
       "      <th>3</th>\n",
       "      <td>5</td>\n",
       "      <td>1</td>\n",
       "      <td>2</td>\n",
       "    </tr>\n",
       "    <tr>\n",
       "      <th>4</th>\n",
       "      <td>6</td>\n",
       "      <td>1</td>\n",
       "      <td>3</td>\n",
       "    </tr>\n",
       "  </tbody>\n",
       "</table>\n",
       "</div>"
      ],
      "text/plain": [
       "   BraTS21ID  MGMT_value  kfold\n",
       "0          0           1      1\n",
       "1          2           1      4\n",
       "2          3           0      0\n",
       "3          5           1      2\n",
       "4          6           1      3"
      ]
     },
     "execution_count": 5,
     "metadata": {},
     "output_type": "execute_result"
    }
   ],
   "source": [
    "train_df.head()"
   ]
  },
  {
   "cell_type": "markdown",
   "id": "6899f797",
   "metadata": {
    "papermill": {
     "duration": 0.02386,
     "end_time": "2021-10-12T00:10:25.587711",
     "exception": false,
     "start_time": "2021-10-12T00:10:25.563851",
     "status": "completed"
    },
    "tags": []
   },
   "source": [
    "# Utility Functions"
   ]
  },
  {
   "cell_type": "code",
   "execution_count": 6,
   "id": "7e27d8a3",
   "metadata": {
    "execution": {
     "iopub.execute_input": "2021-10-12T00:10:25.652164Z",
     "iopub.status.busy": "2021-10-12T00:10:25.651338Z",
     "iopub.status.idle": "2021-10-12T00:10:25.653349Z",
     "shell.execute_reply": "2021-10-12T00:10:25.653744Z",
     "shell.execute_reply.started": "2021-10-11T23:41:01.571568Z"
    },
    "papermill": {
     "duration": 0.041356,
     "end_time": "2021-10-12T00:10:25.653877",
     "exception": false,
     "start_time": "2021-10-12T00:10:25.612521",
     "status": "completed"
    },
    "tags": []
   },
   "outputs": [],
   "source": [
    "def load_dicom(path, size = 224):\n",
    "    ''' \n",
    "    Reads a DICOM image, standardizes so that the pixel values are between 0 and 1, then rescales to 0 and 255\n",
    "    \n",
    "    Not super sure if this kind of scaling is appropriate, but everyone seems to do it. \n",
    "    '''\n",
    "    dicom = pydicom.read_file(path)\n",
    "    data = dicom.pixel_array\n",
    "    # transform data into black and white scale / grayscale\n",
    "#     data = data - np.min(data)\n",
    "    if np.max(data) != 0:\n",
    "        data = data / np.max(data)\n",
    "    data = (data * 255).astype(np.uint8)\n",
    "    return cv2.resize(data, (size, size))\n",
    "\n",
    "def get_all_image_paths(brats21id, image_type, folder='train'): \n",
    "    '''\n",
    "    Returns an arry of all the images of a particular type for a particular patient ID\n",
    "    '''\n",
    "    assert(image_type in mri_types)\n",
    "    \n",
    "    patient_path = os.path.join(\n",
    "        \"../input/rsna-miccai-brain-tumor-radiogenomic-classification/%s/\" % folder, \n",
    "        str(brats21id).zfill(5),\n",
    "    )\n",
    "\n",
    "    paths = sorted(\n",
    "        glob.glob(os.path.join(patient_path, image_type, \"*\")), \n",
    "        key=lambda x: int(x[:-4].split(\"-\")[-1]),\n",
    "    )\n",
    "    \n",
    "    num_images = len(paths)\n",
    "    \n",
    "    start = int(num_images * 0.25)\n",
    "    end = int(num_images * 0.75)\n",
    "\n",
    "    interval = 3\n",
    "    \n",
    "    if num_images < 10: \n",
    "        interval = 1\n",
    "    \n",
    "    return np.array(paths[start:end:interval])\n",
    "\n",
    "def get_all_images(brats21id, image_type, folder='train', size=225):\n",
    "    return [load_dicom(path, size) for path in get_all_image_paths(brats21id, image_type, folder)]\n",
    "\n",
    "def get_all_data_for_train(image_type, image_size=32):\n",
    "    global train_df\n",
    "    \n",
    "    X = []\n",
    "    y = []\n",
    "    train_ids = []\n",
    "\n",
    "    for i in tqdm(train_df.index):\n",
    "        x = train_df.loc[i]\n",
    "        images = get_all_images(int(x['BraTS21ID']), image_type, 'train', image_size)\n",
    "        label = x['MGMT_value']\n",
    "\n",
    "        X += images\n",
    "        y += [label] * len(images)\n",
    "        train_ids += [int(x['BraTS21ID'])] * len(images)\n",
    "        assert(len(X) == len(y))\n",
    "    return np.array(X), np.array(y), np.array(train_ids)\n",
    "\n",
    "def get_all_data_for_test(image_type, image_size=32):\n",
    "    global test_df\n",
    "    \n",
    "    X = []\n",
    "    test_ids = []\n",
    "\n",
    "    for i in tqdm(test_df.index):\n",
    "        x = test_df.loc[i]\n",
    "        images = get_all_images(int(x['BraTS21ID']), image_type, 'test', image_size)\n",
    "        X += images\n",
    "        test_ids += [int(x['BraTS21ID'])] * len(images)\n",
    "\n",
    "    return np.array(X), np.array(test_ids)"
   ]
  },
  {
   "cell_type": "markdown",
   "id": "4fffc164",
   "metadata": {
    "papermill": {
     "duration": 0.024623,
     "end_time": "2021-10-12T00:10:25.702606",
     "exception": false,
     "start_time": "2021-10-12T00:10:25.677983",
     "status": "completed"
    },
    "tags": []
   },
   "source": [
    "# Load all Images\n",
    "```\n",
    "X - contains all the images for each patient \n",
    "trainidt - trainidt is a mask vector into X, y for training.  There's a patient id/BraTS21ID corresponding to each image (e.g. (0, 0, 0, 0, 2,2, 3,3,3,3,3,...) )\n",
    "testidt - testidt is a mask vector into X_test for testing\n",
    "```"
   ]
  },
  {
   "cell_type": "code",
   "execution_count": 7,
   "id": "7626deae",
   "metadata": {
    "execution": {
     "iopub.execute_input": "2021-10-12T00:10:25.753700Z",
     "iopub.status.busy": "2021-10-12T00:10:25.752871Z",
     "iopub.status.idle": "2021-10-12T00:13:08.215090Z",
     "shell.execute_reply": "2021-10-12T00:13:08.214273Z",
     "shell.execute_reply.started": "2021-10-11T23:41:01.589888Z"
    },
    "papermill": {
     "duration": 162.488537,
     "end_time": "2021-10-12T00:13:08.215237",
     "exception": false,
     "start_time": "2021-10-12T00:10:25.726700",
     "status": "completed"
    },
    "tags": []
   },
   "outputs": [
    {
     "data": {
      "application/vnd.jupyter.widget-view+json": {
       "model_id": "17cd5451d41047c0830efe56af321d48",
       "version_major": 2,
       "version_minor": 0
      },
      "text/plain": [
       "  0%|          | 0/582 [00:00<?, ?it/s]"
      ]
     },
     "metadata": {},
     "output_type": "display_data"
    },
    {
     "data": {
      "application/vnd.jupyter.widget-view+json": {
       "model_id": "c6e48db572654d898616fcdb33d47f4d",
       "version_major": 2,
       "version_minor": 0
      },
      "text/plain": [
       "  0%|          | 0/87 [00:00<?, ?it/s]"
      ]
     },
     "metadata": {},
     "output_type": "display_data"
    }
   ],
   "source": [
    "X, y, trainidt = get_all_data_for_train('T1wCE', image_size=32)\n",
    "X_test, testidt = get_all_data_for_test('T1wCE', image_size=32)"
   ]
  },
  {
   "cell_type": "markdown",
   "id": "423bca0e",
   "metadata": {
    "papermill": {
     "duration": 0.024625,
     "end_time": "2021-10-12T00:13:08.265154",
     "exception": false,
     "start_time": "2021-10-12T00:13:08.240529",
     "status": "completed"
    },
    "tags": []
   },
   "source": [
    "# Train/Validation Split"
   ]
  },
  {
   "cell_type": "code",
   "execution_count": 8,
   "id": "968ce729",
   "metadata": {
    "execution": {
     "iopub.execute_input": "2021-10-12T00:13:08.322327Z",
     "iopub.status.busy": "2021-10-12T00:13:08.321222Z",
     "iopub.status.idle": "2021-10-12T00:13:08.330254Z",
     "shell.execute_reply": "2021-10-12T00:13:08.329829Z",
     "shell.execute_reply.started": "2021-10-11T23:43:16.558623Z"
    },
    "papermill": {
     "duration": 0.040147,
     "end_time": "2021-10-12T00:13:08.330372",
     "exception": false,
     "start_time": "2021-10-12T00:13:08.290225",
     "status": "completed"
    },
    "tags": []
   },
   "outputs": [],
   "source": [
    "X_train, X_valid, y_train, y_valid, trainidt_train, trainidt_valid = train_test_split(X, y, trainidt, test_size=0.2, random_state=42)"
   ]
  },
  {
   "cell_type": "markdown",
   "id": "11efff2a",
   "metadata": {
    "papermill": {
     "duration": 0.024248,
     "end_time": "2021-10-12T00:13:08.379261",
     "exception": false,
     "start_time": "2021-10-12T00:13:08.355013",
     "status": "completed"
    },
    "tags": []
   },
   "source": [
    "## Adding a Dimension"
   ]
  },
  {
   "cell_type": "code",
   "execution_count": 9,
   "id": "99232917",
   "metadata": {
    "execution": {
     "iopub.execute_input": "2021-10-12T00:13:08.579970Z",
     "iopub.status.busy": "2021-10-12T00:13:08.579053Z",
     "iopub.status.idle": "2021-10-12T00:13:10.557155Z",
     "shell.execute_reply": "2021-10-12T00:13:10.556706Z",
     "shell.execute_reply.started": "2021-10-11T23:43:16.575872Z"
    },
    "papermill": {
     "duration": 2.153596,
     "end_time": "2021-10-12T00:13:10.557283",
     "exception": false,
     "start_time": "2021-10-12T00:13:08.403687",
     "status": "completed"
    },
    "tags": []
   },
   "outputs": [
    {
     "data": {
      "text/plain": [
       "TensorShape([12956, 32, 32, 1])"
      ]
     },
     "execution_count": 9,
     "metadata": {},
     "output_type": "execute_result"
    }
   ],
   "source": [
    "X_train = tf.expand_dims(X_train, axis=-1)\n",
    "X_valid = tf.expand_dims(X_valid, axis=-1)\n",
    "X_train.shape"
   ]
  },
  {
   "cell_type": "markdown",
   "id": "18a58c88",
   "metadata": {
    "papermill": {
     "duration": 0.024907,
     "end_time": "2021-10-12T00:13:10.607469",
     "exception": false,
     "start_time": "2021-10-12T00:13:10.582562",
     "status": "completed"
    },
    "tags": []
   },
   "source": [
    "## One-hot encode labels"
   ]
  },
  {
   "cell_type": "code",
   "execution_count": 10,
   "id": "0f405bb8",
   "metadata": {
    "execution": {
     "iopub.execute_input": "2021-10-12T00:13:10.660781Z",
     "iopub.status.busy": "2021-10-12T00:13:10.660259Z",
     "iopub.status.idle": "2021-10-12T00:13:10.664705Z",
     "shell.execute_reply": "2021-10-12T00:13:10.664248Z",
     "shell.execute_reply.started": "2021-10-11T23:43:18.490196Z"
    },
    "papermill": {
     "duration": 0.032381,
     "end_time": "2021-10-12T00:13:10.664820",
     "exception": false,
     "start_time": "2021-10-12T00:13:10.632439",
     "status": "completed"
    },
    "tags": []
   },
   "outputs": [],
   "source": [
    "y_train = to_categorical(y_train)\n",
    "y_valid = to_categorical(y_valid)"
   ]
  },
  {
   "cell_type": "markdown",
   "id": "a81caf32",
   "metadata": {
    "papermill": {
     "duration": 0.024919,
     "end_time": "2021-10-12T00:13:10.714506",
     "exception": false,
     "start_time": "2021-10-12T00:13:10.689587",
     "status": "completed"
    },
    "tags": []
   },
   "source": [
    "# Tunable Model"
   ]
  },
  {
   "cell_type": "markdown",
   "id": "1fbd8fad",
   "metadata": {
    "papermill": {
     "duration": 0.024862,
     "end_time": "2021-10-12T00:13:10.764724",
     "exception": false,
     "start_time": "2021-10-12T00:13:10.739862",
     "status": "completed"
    },
    "tags": []
   },
   "source": [
    "## Using the SIREN activation layer. Refer to https://vsitzmann.github.io/siren/ for more details."
   ]
  },
  {
   "cell_type": "code",
   "execution_count": 11,
   "id": "9e87dba0",
   "metadata": {
    "execution": {
     "iopub.execute_input": "2021-10-12T00:13:10.829095Z",
     "iopub.status.busy": "2021-10-12T00:13:10.827452Z",
     "iopub.status.idle": "2021-10-12T00:13:10.829691Z",
     "shell.execute_reply": "2021-10-12T00:13:10.830126Z",
     "shell.execute_reply.started": "2021-10-11T23:43:18.499387Z"
    },
    "papermill": {
     "duration": 0.040161,
     "end_time": "2021-10-12T00:13:10.830247",
     "exception": false,
     "start_time": "2021-10-12T00:13:10.790086",
     "status": "completed"
    },
    "tags": []
   },
   "outputs": [],
   "source": [
    "class SineDenseLayer(keras.layers.Layer):\n",
    "    # See paper sec. 3.2, final paragraph, and supplement Sec. 1.5 for discussion of omega_0.\n",
    "    \n",
    "    # If is_first=True, omega_0 is a frequency factor which simply multiplies the activations before the \n",
    "    # nonlinearity. Different signals may require different omega_0 in the first layer - this is a \n",
    "    # hyperparameter.\n",
    "    \n",
    "    # If is_first=False, then the weights will be divided by omega_0 so as to keep the magnitude of \n",
    "    # activations constant, but boost gradients to the weight matrix (see supplement Sec. 1.5)\n",
    "    \n",
    "    def __init__(self, features,\n",
    "                 is_first=False, omega_0=30):\n",
    "        super().__init__()\n",
    "        self.omega_0 = omega_0\n",
    "        self.is_first = is_first\n",
    "        \n",
    "        self.features = features\n",
    "        \n",
    "        if self.is_first:\n",
    "            initializer = RandomUniform(-1 / self.features, 1 / self.features)   \n",
    "            self.linear = keras.layers.Dense(features, kernel_initializer=initializer)\n",
    "    \n",
    "        else:\n",
    "            initializer = RandomUniform(-np.sqrt(6 / self.features) / self.omega_0, np.sqrt(6 / self.features) / self.omega_0)\n",
    "            self.linear = keras.layers.Dense(features, kernel_initializer=initializer)\n",
    "     \n",
    "\n",
    "    def call(self, input):\n",
    "        return tf.math.sin(self.omega_0 * self.linear(input))\n",
    "    \n",
    "#     def forward_with_intermediate(self, input): \n",
    "#         # For visualization of activation distributions\n",
    "#         intermediate = self.omega_0 * self.linear(input)\n",
    "#         return tf.math.sin(intermediate), intermediate\n",
    "\n",
    "class SineConvLayer(keras.layers.Layer):\n",
    "    # See paper sec. 3.2, final paragraph, and supplement Sec. 1.5 for discussion of omega_0.\n",
    "    \n",
    "    # If is_first=True, omega_0 is a frequency factor which simply multiplies the activations before the \n",
    "    # nonlinearity. Different signals may require different omega_0 in the first layer - this is a \n",
    "    # hyperparameter.\n",
    "    \n",
    "    # If is_first=False, then the weights will be divided by omega_0 so as to keep the magnitude of \n",
    "    # activations constant, but boost gradients to the weight matrix (see supplement Sec. 1.5)\n",
    "    \n",
    "    def __init__(self, features, kernel_size,\n",
    "                 is_first=False, omega_0=30):\n",
    "        super().__init__()\n",
    "        self.omega_0 = omega_0\n",
    "        self.is_first = is_first\n",
    "        \n",
    "        self.features = features\n",
    "        \n",
    "        if self.is_first:\n",
    "            initializer = RandomUniform(-1 / self.features, 1 / self.features)            \n",
    "            self.conv = keras.layers.Conv2D(features, kernel_size, kernel_initializer=initializer)\n",
    "            \n",
    "        else:\n",
    "            initializer = RandomUniform(-np.sqrt(6 / self.features) / self.omega_0, np.sqrt(6 / self.features) / self.omega_0)\n",
    "            self.conv = keras.layers.Conv2D(features, kernel_size, kernel_initializer=initializer)\n",
    "            \n",
    "\n",
    "    def call(self, input):\n",
    "        return tf.math.sin(self.omega_0 * self.conv(input))\n",
    "    \n",
    "#     def forward_with_intermediate(self, input): \n",
    "#         # For visualization of activation distributions\n",
    "#         intermediate = self.omega_0 * self.linear(input)\n",
    "#         return tf.math.sin(intermediate), intermediate\n",
    "\n"
   ]
  },
  {
   "cell_type": "code",
   "execution_count": 12,
   "id": "8713cb8a",
   "metadata": {
    "execution": {
     "iopub.execute_input": "2021-10-12T00:13:10.891539Z",
     "iopub.status.busy": "2021-10-12T00:13:10.890826Z",
     "iopub.status.idle": "2021-10-12T00:13:10.936478Z",
     "shell.execute_reply": "2021-10-12T00:13:10.936048Z",
     "shell.execute_reply.started": "2021-10-11T23:43:18.516758Z"
    },
    "papermill": {
     "duration": 0.081105,
     "end_time": "2021-10-12T00:13:10.936581",
     "exception": false,
     "start_time": "2021-10-12T00:13:10.855476",
     "status": "completed"
    },
    "tags": []
   },
   "outputs": [],
   "source": [
    "import keras_tuner as kt\n",
    "\n",
    "\n",
    "def make_model(hp):\n",
    "    inputs = keras.Input(shape=X_train.shape[1:])\n",
    "    \n",
    "    x = keras.layers.experimental.preprocessing.Rescaling(1.0 / 255)(inputs)\n",
    "\n",
    "#     num_block = hp.Int('num_block', min_value=2, max_value=5, step=1)\n",
    "#     num_filters = hp.Int('num_filters', min_value=32, max_value=128, step=32)\n",
    "    \n",
    "#     x = keras.layers.Conv2D(64, kernel_size=(4, 4), activation=\"relu\", name=\"Conv_1\")(x)\n",
    "    x = keras.layers.Conv2D(filters=hp.Int('units_Conv_1_' + str(0),\n",
    "                                            min_value=64,\n",
    "                                            max_value=256,\n",
    "                                            step=32),\n",
    "                            kernel_size=(4, 4),\n",
    "                            activation=\"relu\", \n",
    "                            name=\"Conv_1\")(x)\n",
    "\n",
    "    x = keras.layers.MaxPool2D(pool_size=(2, 2))(x)\n",
    "\n",
    "#     x = keras.layers.Conv2D(32, kernel_size=(2, 2), activation=\"relu\", name=\"Conv_2\")(x)\n",
    "    x = keras.layers.Conv2D(filters=hp.Int('units_conv2_' + str(1),\n",
    "                                            min_value=16,\n",
    "                                            max_value=128,\n",
    "                                            step=16),\n",
    "                            kernel_size=(2, 2),\n",
    "                            activation=\"relu\",\n",
    "                            name=\"Conv_2\")(x)\n",
    "\n",
    "    x = keras.layers.MaxPool2D(pool_size=(1, 1))(x)\n",
    "    \n",
    "#     for i in range(num_block):\n",
    "#         x = keras.layers.Conv2D(num_filters, \n",
    "#                                 kernel_size=(4, 4),\n",
    "#                                 activation=\"relu\",\n",
    "#                                 )(x)\n",
    "    \n",
    "#         x = keras.layers.MaxPool2D(pool_size=(2, 2))(x)\n",
    "\n",
    "#     x = keras.layers.Conv2D(32, kernel_size=(2, 2), activation=\"relu\", name=\"Conv_2\")(x)\n",
    "#     x = keras.layers.MaxPool2D(pool_size=(1, 1))(x)\n",
    "\n",
    "#     h = keras.layers.Dropout(0.1)(h)\n",
    "    x = layers.Dropout(\n",
    "        hp.Float('dense_dropout', min_value=0., max_value=0.7)\n",
    "    )(x)\n",
    "    x = keras.layers.Flatten()(x)\n",
    "#     reduction_type = hp.Choice('reduction_type', ['flatten', 'avg'])\n",
    "#     if reduction_type == 'flatten':\n",
    "#         x = layers.Flatten()(x)\n",
    "#     else:\n",
    "#         x = layers.GlobalAveragePooling2D()(x)\n",
    "        \n",
    "#     x = keras.layers.Dense(32, activation=\"relu\")(x)\n",
    "    x = layers.Dense(\n",
    "        units=hp.Int('num_dense_units', min_value=16, max_value=64, step=8),\n",
    "        activation='relu'\n",
    "    )(x)\n",
    "\n",
    "    outputs = keras.layers.Dense(2, activation=\"softmax\")(x)\n",
    "\n",
    "    model = keras.Model(inputs, outputs)\n",
    "\n",
    "    roc_auc = tf.keras.metrics.AUC(name='roc_auc', curve='ROC')\n",
    "\n",
    "    model.compile(\n",
    "        loss=\"categorical_crossentropy\", optimizer=\"adam\", metrics=[roc_auc]\n",
    "    )\n",
    "    model.summary()\n",
    "    return model"
   ]
  },
  {
   "cell_type": "markdown",
   "id": "bca9f125",
   "metadata": {
    "papermill": {
     "duration": 0.024568,
     "end_time": "2021-10-12T00:13:10.985785",
     "exception": false,
     "start_time": "2021-10-12T00:13:10.961217",
     "status": "completed"
    },
    "tags": []
   },
   "source": [
    "# Augmentation\n",
    "\n",
    "- https://www.tensorflow.org/guide/keras/preprocessing_layers\n",
    "- https://keras.io/examples/vision/image_classification_from_scratch/"
   ]
  },
  {
   "cell_type": "code",
   "execution_count": 13,
   "id": "96fa2d9d",
   "metadata": {
    "execution": {
     "iopub.execute_input": "2021-10-12T00:13:11.049543Z",
     "iopub.status.busy": "2021-10-12T00:13:11.047955Z",
     "iopub.status.idle": "2021-10-12T00:13:11.050172Z",
     "shell.execute_reply": "2021-10-12T00:13:11.050571Z",
     "shell.execute_reply.started": "2021-10-12T00:08:23.947395Z"
    },
    "papermill": {
     "duration": 0.040032,
     "end_time": "2021-10-12T00:13:11.050685",
     "exception": false,
     "start_time": "2021-10-12T00:13:11.010653",
     "status": "completed"
    },
    "tags": []
   },
   "outputs": [],
   "source": [
    "def make_model_augmented(hp):\n",
    "    input_shape = (32, 32, 1)\n",
    "    classes = 10\n",
    "\n",
    "    # Create a data augmentation stage with horizontal flipping, rotations, zooms\n",
    "#     data_augmentation = keras.Sequential(\n",
    "#         [\n",
    "#             layers.experimental.preprocessing.RandomFlip(\"horizontal\"),\n",
    "#             layers.experimental.preprocessing.RandomRotation(0.1),\n",
    "#             layers.experimental.preprocessing.RandomZoom(0.1),\n",
    "#         ]\n",
    "#     )\n",
    "    \n",
    "    data_augmentation = keras.Sequential(\n",
    "    [\n",
    "        layers.experimental.preprocessing.RandomFlip(\"horizontal\"),\n",
    "        layers.experimental.preprocessing.RandomRotation(0.1),\n",
    "    ]\n",
    ")\n",
    "\n",
    "    shape=X_train.shape[1:]\n",
    "    print(f\"shape={shape}\") # shape=(32, 32, 1)\n",
    "    \n",
    "    inputs = keras.Input(shape=input_shape)\n",
    "    x = data_augmentation(inputs)\n",
    "\n",
    "    x = keras.layers.experimental.preprocessing.Rescaling(1.0 / 255)(x)\n",
    "#     x = layers.experimental.preprocessing.RandomFlip(\"horizontal\")(x),\n",
    "#     x = layers.experimental.preprocessing.RandomRotation(0.1)(x),\n",
    "#     x = layers.experimental.preprocessing.RandomZoom(\n",
    "#         height_factor = 0.2,\n",
    "#         width_factor = -0.3,\n",
    "#         fill_mode = \"constant\",\n",
    "#         interpolation = \"bilinear\",\n",
    "#         seed = 42\n",
    "#     )(x),\n",
    "#     num_block = hp.Int('num_block', min_value=2, max_value=5, step=1)\n",
    "#     num_filters = hp.Int('num_filters', min_value=32, max_value=128, step=32)\n",
    "    \n",
    "#     x = keras.layers.Conv2D(64, kernel_size=(4, 4), activation=\"relu\", name=\"Conv_1\")(x)\n",
    "    x = keras.layers.Conv2D(filters=hp.Int('units_Conv_1_' + str(0),\n",
    "                                            min_value=64,\n",
    "                                            max_value=256,\n",
    "                                            step=32),\n",
    "                            kernel_size=(4, 4),\n",
    "                            activation=\"relu\", \n",
    "                            name=\"Conv_1\")(x)\n",
    "\n",
    "    x = keras.layers.MaxPool2D(pool_size=(2, 2))(x)\n",
    "\n",
    "#     x = keras.layers.Conv2D(32, kernel_size=(2, 2), activation=\"relu\", name=\"Conv_2\")(x)\n",
    "    x = keras.layers.Conv2D(filters=hp.Int('units_conv2_' + str(1),\n",
    "                                            min_value=16,\n",
    "                                            max_value=128,\n",
    "                                            step=16),\n",
    "                            kernel_size=(2, 2),\n",
    "                            activation=\"relu\",\n",
    "                            name=\"Conv_2\")(x)\n",
    "\n",
    "    x = keras.layers.MaxPool2D(pool_size=(1, 1))(x)\n",
    "    \n",
    "#     for i in range(num_block):\n",
    "#         x = keras.layers.Conv2D(num_filters, \n",
    "#                                 kernel_size=(4, 4),\n",
    "#                                 activation=\"relu\",\n",
    "#                                 )(x)\n",
    "    \n",
    "#         x = keras.layers.MaxPool2D(pool_size=(2, 2))(x)\n",
    "\n",
    "#     x = keras.layers.Conv2D(32, kernel_size=(2, 2), activation=\"relu\", name=\"Conv_2\")(x)\n",
    "#     x = keras.layers.MaxPool2D(pool_size=(1, 1))(x)\n",
    "\n",
    "#     h = keras.layers.Dropout(0.1)(h)\n",
    "    x = layers.Dropout(\n",
    "        hp.Float('dense_dropout', min_value=0., max_value=0.7)\n",
    "    )(x)\n",
    "    x = keras.layers.Flatten()(x)\n",
    "#     reduction_type = hp.Choice('reduction_type', ['flatten', 'avg'])\n",
    "#     if reduction_type == 'flatten':\n",
    "#         x = layers.Flatten()(x)\n",
    "#     else:\n",
    "#         x = layers.GlobalAveragePooling2D()(x)\n",
    "        \n",
    "#     x = keras.layers.Dense(32, activation=\"relu\")(x)\n",
    "    x = layers.Dense(\n",
    "        units=hp.Int('num_dense_units', min_value=16, max_value=64, step=8),\n",
    "        activation='relu'\n",
    "    )(x)\n",
    "\n",
    "    outputs = keras.layers.Dense(2, activation=\"softmax\")(x)\n",
    "\n",
    "    model = keras.Model(inputs, outputs)\n",
    "\n",
    "    roc_auc = tf.keras.metrics.AUC(name='roc_auc', curve='ROC')\n",
    "\n",
    "    model.compile(\n",
    "        loss=\"categorical_crossentropy\", optimizer=\"adam\", metrics=[roc_auc]\n",
    "    )\n",
    "    model.summary()\n",
    "    return model"
   ]
  },
  {
   "cell_type": "code",
   "execution_count": 14,
   "id": "7d57c3ce",
   "metadata": {
    "execution": {
     "iopub.execute_input": "2021-10-12T00:13:11.112514Z",
     "iopub.status.busy": "2021-10-12T00:13:11.110984Z",
     "iopub.status.idle": "2021-10-12T00:13:11.113145Z",
     "shell.execute_reply": "2021-10-12T00:13:11.113540Z",
     "shell.execute_reply.started": "2021-10-11T23:43:18.590783Z"
    },
    "papermill": {
     "duration": 0.038129,
     "end_time": "2021-10-12T00:13:11.113653",
     "exception": false,
     "start_time": "2021-10-12T00:13:11.075524",
     "status": "completed"
    },
    "tags": []
   },
   "outputs": [],
   "source": [
    "import keras_tuner as kt\n",
    "\n",
    "\n",
    "def make_model_siren(hp):\n",
    "    inputs = keras.Input(shape=X_train.shape[1:])\n",
    "    \n",
    "    x = keras.layers.experimental.preprocessing.Rescaling(1.0 / 255)(inputs)\n",
    "\n",
    "    x = SineConvLayer(features=hp.Int('features_conv_1', min_value=64, max_value=256, step=32),\n",
    "                      kernel_size=hp.Int('kernel_conv_1', min_value=2, max_value=7, step=1),\n",
    "                      is_first=True, \n",
    "                      omega_0=hp.Int('omega_0_conv_1', min_value=10, max_value=50, step=5))(x)\n",
    "    \n",
    "    x = keras.layers.MaxPool2D(pool_size=(2, 2))(x)\n",
    "\n",
    "    x = SineConvLayer(features=hp.Int('features_conv_2', min_value=16, max_value=128, step=16),\n",
    "                      kernel_size=hp.Int('kernel_conv_2', min_value=2, max_value=7, step=1),\n",
    "                      is_first=False, \n",
    "                      omega_0=hp.Int('omega_0_conv_2', min_value=10, max_value=50, step=5))(x)\n",
    "\n",
    "    x = keras.layers.MaxPool2D(pool_size=(1, 1))(x)\n",
    "    \n",
    "    x = layers.Dropout(\n",
    "        hp.Float('dense_dropout', min_value=0., max_value=0.7)\n",
    "    )(x)\n",
    "    x = keras.layers.Flatten()(x)\n",
    "    x = SineDenseLayer(features=hp.Int('features_dense_1', min_value=64, max_value=256, step=32),\n",
    "                      is_first=False, \n",
    "                      omega_0=hp.Int('omega_0_dense_1', min_value=10, max_value=50, step=5))(x)\n",
    "\n",
    "    outputs = keras.layers.Dense(2, activation=\"softmax\")(x)\n",
    "\n",
    "    model = keras.Model(inputs, outputs)\n",
    "\n",
    "    roc_auc = tf.keras.metrics.AUC(name='roc_auc', curve='ROC')\n",
    "\n",
    "    model.compile(\n",
    "        loss=\"categorical_crossentropy\", optimizer=\"adam\", metrics=[roc_auc]\n",
    "    )\n",
    "    model.summary()\n",
    "    return model"
   ]
  },
  {
   "cell_type": "markdown",
   "id": "2f43e6dd",
   "metadata": {
    "papermill": {
     "duration": 0.024684,
     "end_time": "2021-10-12T00:13:11.163830",
     "exception": false,
     "start_time": "2021-10-12T00:13:11.139146",
     "status": "completed"
    },
    "tags": []
   },
   "source": [
    "# Hyperparameter Search"
   ]
  },
  {
   "cell_type": "code",
   "execution_count": 15,
   "id": "08aa1847",
   "metadata": {
    "execution": {
     "iopub.execute_input": "2021-10-12T00:13:11.221629Z",
     "iopub.status.busy": "2021-10-12T00:13:11.221019Z",
     "iopub.status.idle": "2021-10-12T00:16:56.494599Z",
     "shell.execute_reply": "2021-10-12T00:16:56.494156Z",
     "shell.execute_reply.started": "2021-10-12T00:08:36.272769Z"
    },
    "papermill": {
     "duration": 225.305108,
     "end_time": "2021-10-12T00:16:56.494726",
     "exception": false,
     "start_time": "2021-10-12T00:13:11.189618",
     "status": "completed"
    },
    "tags": []
   },
   "outputs": [
    {
     "name": "stdout",
     "output_type": "stream",
     "text": [
      "Trial 5 Complete [00h 00m 43s]\n",
      "val_loss: 0.6449000239372253\n",
      "\n",
      "Best val_loss So Far: 0.6449000239372253\n",
      "Total elapsed time: 00h 03m 44s\n"
     ]
    }
   ],
   "source": [
    "tuner = kt.tuners.BayesianOptimization(\n",
    "#     make_model_siren,\n",
    "#     make_model,\n",
    "    make_model_augmented,\n",
    "    objective='val_loss',\n",
    "    max_trials=5,  # Set to 5 to run quicker, but need 100+ for good results\n",
    "    overwrite=True)\n",
    "\n",
    "callbacks=[keras.callbacks.EarlyStopping(monitor='val_roc_acc', mode='max', patience=3, baseline=0.9)]\n",
    "\n",
    "tuner.search(X_train, y_train, validation_split=0.2, callbacks=callbacks, verbose=1, epochs=20)"
   ]
  },
  {
   "cell_type": "markdown",
   "id": "fb125e74",
   "metadata": {
    "papermill": {
     "duration": 0.025797,
     "end_time": "2021-10-12T00:16:56.545705",
     "exception": false,
     "start_time": "2021-10-12T00:16:56.519908",
     "status": "completed"
    },
    "tags": []
   },
   "source": [
    "# Find the best epoch value"
   ]
  },
  {
   "cell_type": "code",
   "execution_count": 16,
   "id": "05c1fdb8",
   "metadata": {
    "execution": {
     "iopub.execute_input": "2021-10-12T00:16:56.604716Z",
     "iopub.status.busy": "2021-10-12T00:16:56.603942Z",
     "iopub.status.idle": "2021-10-12T00:16:56.659307Z",
     "shell.execute_reply": "2021-10-12T00:16:56.659691Z",
     "shell.execute_reply.started": "2021-10-11T23:43:20.668322Z"
    },
    "papermill": {
     "duration": 0.088595,
     "end_time": "2021-10-12T00:16:56.659855",
     "exception": false,
     "start_time": "2021-10-12T00:16:56.571260",
     "status": "completed"
    },
    "tags": []
   },
   "outputs": [
    {
     "name": "stdout",
     "output_type": "stream",
     "text": [
      "Model: \"model_1\"\n",
      "_________________________________________________________________\n",
      "Layer (type)                 Output Shape              Param #   \n",
      "=================================================================\n",
      "input_2 (InputLayer)         [(None, 32, 32, 1)]       0         \n",
      "_________________________________________________________________\n",
      "rescaling_1 (Rescaling)      (None, 32, 32, 1)         0         \n",
      "_________________________________________________________________\n",
      "Conv_1 (Conv2D)              (None, 29, 29, 256)       4352      \n",
      "_________________________________________________________________\n",
      "max_pooling2d_2 (MaxPooling2 (None, 14, 14, 256)       0         \n",
      "_________________________________________________________________\n",
      "Conv_2 (Conv2D)              (None, 13, 13, 16)        16400     \n",
      "_________________________________________________________________\n",
      "max_pooling2d_3 (MaxPooling2 (None, 13, 13, 16)        0         \n",
      "_________________________________________________________________\n",
      "dropout_1 (Dropout)          (None, 13, 13, 16)        0         \n",
      "_________________________________________________________________\n",
      "flatten_1 (Flatten)          (None, 2704)              0         \n",
      "_________________________________________________________________\n",
      "dense_2 (Dense)              (None, 64)                173120    \n",
      "_________________________________________________________________\n",
      "dense_3 (Dense)              (None, 2)                 130       \n",
      "=================================================================\n",
      "Total params: 194,002\n",
      "Trainable params: 194,002\n",
      "Non-trainable params: 0\n",
      "_________________________________________________________________\n"
     ]
    }
   ],
   "source": [
    "best_hp = tuner.get_best_hyperparameters()[0]\n",
    "best_model = make_model(best_hp)"
   ]
  },
  {
   "cell_type": "markdown",
   "id": "c637ffbb",
   "metadata": {
    "papermill": {
     "duration": 0.02566,
     "end_time": "2021-10-12T00:16:56.711381",
     "exception": false,
     "start_time": "2021-10-12T00:16:56.685721",
     "status": "completed"
    },
    "tags": []
   },
   "source": [
    "# Save Model"
   ]
  },
  {
   "cell_type": "code",
   "execution_count": 17,
   "id": "205621b4",
   "metadata": {
    "execution": {
     "iopub.execute_input": "2021-10-12T00:16:56.769581Z",
     "iopub.status.busy": "2021-10-12T00:16:56.768026Z",
     "iopub.status.idle": "2021-10-12T00:16:57.629210Z",
     "shell.execute_reply": "2021-10-12T00:16:57.629670Z",
     "shell.execute_reply.started": "2021-10-11T23:43:20.669942Z"
    },
    "papermill": {
     "duration": 0.893038,
     "end_time": "2021-10-12T00:16:57.629865",
     "exception": false,
     "start_time": "2021-10-12T00:16:56.736827",
     "status": "completed"
    },
    "tags": []
   },
   "outputs": [],
   "source": [
    "best_model.save(\"best_model\")"
   ]
  },
  {
   "cell_type": "code",
   "execution_count": 18,
   "id": "17ff3939",
   "metadata": {
    "execution": {
     "iopub.execute_input": "2021-10-12T00:16:57.687793Z",
     "iopub.status.busy": "2021-10-12T00:16:57.687251Z",
     "iopub.status.idle": "2021-10-12T00:18:32.726672Z",
     "shell.execute_reply": "2021-10-12T00:18:32.726205Z",
     "shell.execute_reply.started": "2021-10-11T23:43:20.671971Z"
    },
    "papermill": {
     "duration": 95.069788,
     "end_time": "2021-10-12T00:18:32.726829",
     "exception": false,
     "start_time": "2021-10-12T00:16:57.657041",
     "status": "completed"
    },
    "tags": []
   },
   "outputs": [
    {
     "name": "stdout",
     "output_type": "stream",
     "text": [
      "Epoch 1/50\n",
      "324/324 [==============================] - 3s 7ms/step - loss: 0.6859 - roc_auc: 0.5762 - val_loss: 0.6815 - val_roc_auc: 0.5924\n",
      "Epoch 2/50\n",
      "324/324 [==============================] - 2s 5ms/step - loss: 0.6748 - roc_auc: 0.6105 - val_loss: 0.6728 - val_roc_auc: 0.6150\n",
      "Epoch 3/50\n",
      "324/324 [==============================] - 2s 6ms/step - loss: 0.6600 - roc_auc: 0.6451 - val_loss: 0.6636 - val_roc_auc: 0.6360\n",
      "Epoch 4/50\n",
      "324/324 [==============================] - 2s 5ms/step - loss: 0.6410 - roc_auc: 0.6763 - val_loss: 0.6441 - val_roc_auc: 0.6768\n",
      "Epoch 5/50\n",
      "324/324 [==============================] - 2s 6ms/step - loss: 0.6019 - roc_auc: 0.7312 - val_loss: 0.6180 - val_roc_auc: 0.7195\n",
      "Epoch 6/50\n",
      "324/324 [==============================] - 2s 6ms/step - loss: 0.5466 - roc_auc: 0.7910 - val_loss: 0.5984 - val_roc_auc: 0.7518\n",
      "Epoch 7/50\n",
      "324/324 [==============================] - 2s 6ms/step - loss: 0.4861 - roc_auc: 0.8439 - val_loss: 0.5915 - val_roc_auc: 0.7778\n",
      "Epoch 8/50\n",
      "324/324 [==============================] - 2s 6ms/step - loss: 0.3980 - roc_auc: 0.9028 - val_loss: 0.5935 - val_roc_auc: 0.7963\n",
      "Epoch 9/50\n",
      "324/324 [==============================] - 2s 6ms/step - loss: 0.3426 - roc_auc: 0.9286 - val_loss: 0.6134 - val_roc_auc: 0.8089\n",
      "Epoch 10/50\n",
      "324/324 [==============================] - 2s 6ms/step - loss: 0.2731 - roc_auc: 0.9566 - val_loss: 0.6104 - val_roc_auc: 0.8203\n",
      "Epoch 11/50\n",
      "324/324 [==============================] - 2s 6ms/step - loss: 0.2164 - roc_auc: 0.9744 - val_loss: 0.6187 - val_roc_auc: 0.8352\n",
      "Epoch 12/50\n",
      "324/324 [==============================] - 2s 6ms/step - loss: 0.1764 - roc_auc: 0.9829 - val_loss: 0.6762 - val_roc_auc: 0.8375\n",
      "Epoch 13/50\n",
      "324/324 [==============================] - 2s 6ms/step - loss: 0.1471 - roc_auc: 0.9888 - val_loss: 0.7293 - val_roc_auc: 0.8392\n",
      "Epoch 14/50\n",
      "324/324 [==============================] - 2s 7ms/step - loss: 0.1178 - roc_auc: 0.9928 - val_loss: 0.7243 - val_roc_auc: 0.8514\n",
      "Epoch 15/50\n",
      "324/324 [==============================] - 2s 6ms/step - loss: 0.0887 - roc_auc: 0.9963 - val_loss: 0.7968 - val_roc_auc: 0.8491\n",
      "Epoch 16/50\n",
      "324/324 [==============================] - 2s 6ms/step - loss: 0.0644 - roc_auc: 0.9978 - val_loss: 0.9056 - val_roc_auc: 0.8445\n",
      "Epoch 17/50\n",
      "324/324 [==============================] - 2s 6ms/step - loss: 0.0549 - roc_auc: 0.9985 - val_loss: 0.9267 - val_roc_auc: 0.8484\n",
      "Epoch 18/50\n",
      "324/324 [==============================] - 2s 6ms/step - loss: 0.0545 - roc_auc: 0.9985 - val_loss: 0.9705 - val_roc_auc: 0.8468\n",
      "Epoch 19/50\n",
      "324/324 [==============================] - 2s 6ms/step - loss: 0.0409 - roc_auc: 0.9990 - val_loss: 1.0239 - val_roc_auc: 0.8455\n",
      "Epoch 20/50\n",
      "324/324 [==============================] - 2s 5ms/step - loss: 0.0566 - roc_auc: 0.9979 - val_loss: 1.0831 - val_roc_auc: 0.8465\n",
      "Epoch 21/50\n",
      "324/324 [==============================] - 2s 6ms/step - loss: 0.0250 - roc_auc: 0.9997 - val_loss: 1.1509 - val_roc_auc: 0.8436\n",
      "Epoch 22/50\n",
      "324/324 [==============================] - 2s 6ms/step - loss: 0.0314 - roc_auc: 0.9988 - val_loss: 1.2124 - val_roc_auc: 0.8378\n",
      "Epoch 23/50\n",
      "324/324 [==============================] - 2s 6ms/step - loss: 0.0268 - roc_auc: 0.9992 - val_loss: 1.2170 - val_roc_auc: 0.8400\n",
      "Epoch 24/50\n",
      "324/324 [==============================] - 2s 6ms/step - loss: 0.0361 - roc_auc: 0.9991 - val_loss: 1.1845 - val_roc_auc: 0.8417\n",
      "Epoch 25/50\n",
      "324/324 [==============================] - 2s 6ms/step - loss: 0.0190 - roc_auc: 0.9998 - val_loss: 1.2810 - val_roc_auc: 0.8475\n",
      "Epoch 26/50\n",
      "324/324 [==============================] - 2s 6ms/step - loss: 0.0106 - roc_auc: 1.0000 - val_loss: 1.3463 - val_roc_auc: 0.8475\n",
      "Epoch 27/50\n",
      "324/324 [==============================] - 2s 6ms/step - loss: 0.0033 - roc_auc: 1.0000 - val_loss: 1.3751 - val_roc_auc: 0.8510\n",
      "Epoch 28/50\n",
      "324/324 [==============================] - 2s 6ms/step - loss: 0.0023 - roc_auc: 1.0000 - val_loss: 1.4176 - val_roc_auc: 0.8496\n",
      "Epoch 29/50\n",
      "324/324 [==============================] - 2s 6ms/step - loss: 0.0024 - roc_auc: 1.0000 - val_loss: 1.4495 - val_roc_auc: 0.8467\n",
      "Epoch 30/50\n",
      "324/324 [==============================] - 2s 6ms/step - loss: 0.0014 - roc_auc: 1.0000 - val_loss: 1.4842 - val_roc_auc: 0.8461\n",
      "Epoch 31/50\n",
      "324/324 [==============================] - 2s 7ms/step - loss: 0.0013 - roc_auc: 1.0000 - val_loss: 1.5048 - val_roc_auc: 0.8468\n",
      "Epoch 32/50\n",
      "324/324 [==============================] - 2s 6ms/step - loss: 0.0018 - roc_auc: 1.0000 - val_loss: 1.5634 - val_roc_auc: 0.8456\n",
      "Epoch 33/50\n",
      "324/324 [==============================] - 2s 5ms/step - loss: 0.0018 - roc_auc: 1.0000 - val_loss: 1.5708 - val_roc_auc: 0.8468\n",
      "Epoch 34/50\n",
      "324/324 [==============================] - 2s 5ms/step - loss: 0.0015 - roc_auc: 1.0000 - val_loss: 1.6075 - val_roc_auc: 0.8449\n",
      "Epoch 35/50\n",
      "324/324 [==============================] - 2s 6ms/step - loss: 0.0010 - roc_auc: 1.0000 - val_loss: 1.6299 - val_roc_auc: 0.8447\n",
      "Epoch 36/50\n",
      "324/324 [==============================] - 2s 6ms/step - loss: 7.5048e-04 - roc_auc: 1.0000 - val_loss: 1.6564 - val_roc_auc: 0.8442\n",
      "Epoch 37/50\n",
      "324/324 [==============================] - 2s 6ms/step - loss: 0.0010 - roc_auc: 1.0000 - val_loss: 1.7243 - val_roc_auc: 0.8435\n",
      "Epoch 38/50\n",
      "324/324 [==============================] - 2s 6ms/step - loss: 0.0963 - roc_auc: 0.9916 - val_loss: 1.1585 - val_roc_auc: 0.8286\n",
      "Epoch 39/50\n",
      "324/324 [==============================] - 2s 6ms/step - loss: 0.0640 - roc_auc: 0.9970 - val_loss: 1.1893 - val_roc_auc: 0.8449\n",
      "Epoch 40/50\n",
      "324/324 [==============================] - 2s 6ms/step - loss: 0.0206 - roc_auc: 0.9996 - val_loss: 1.3082 - val_roc_auc: 0.8459\n",
      "Epoch 41/50\n",
      "324/324 [==============================] - 2s 5ms/step - loss: 0.0272 - roc_auc: 0.9988 - val_loss: 1.2366 - val_roc_auc: 0.8495\n",
      "Epoch 42/50\n",
      "324/324 [==============================] - 2s 6ms/step - loss: 0.0202 - roc_auc: 0.9995 - val_loss: 1.3972 - val_roc_auc: 0.8320\n",
      "Epoch 43/50\n",
      "324/324 [==============================] - 2s 5ms/step - loss: 0.0187 - roc_auc: 0.9996 - val_loss: 1.3635 - val_roc_auc: 0.8499\n",
      "Epoch 44/50\n",
      "324/324 [==============================] - 2s 6ms/step - loss: 0.0039 - roc_auc: 1.0000 - val_loss: 1.4047 - val_roc_auc: 0.8503\n",
      "Epoch 45/50\n",
      "324/324 [==============================] - 2s 6ms/step - loss: 0.0016 - roc_auc: 1.0000 - val_loss: 1.4428 - val_roc_auc: 0.8509\n",
      "Epoch 46/50\n",
      "324/324 [==============================] - 2s 6ms/step - loss: 0.0016 - roc_auc: 1.0000 - val_loss: 1.4724 - val_roc_auc: 0.8504\n",
      "Epoch 47/50\n",
      "324/324 [==============================] - 2s 6ms/step - loss: 0.0016 - roc_auc: 1.0000 - val_loss: 1.5141 - val_roc_auc: 0.8504\n",
      "Epoch 48/50\n",
      "324/324 [==============================] - 2s 6ms/step - loss: 0.0014 - roc_auc: 1.0000 - val_loss: 1.5365 - val_roc_auc: 0.8500\n",
      "Epoch 49/50\n",
      "324/324 [==============================] - 2s 8ms/step - loss: 0.0014 - roc_auc: 1.0000 - val_loss: 1.5586 - val_roc_auc: 0.8473\n",
      "Epoch 50/50\n",
      "324/324 [==============================] - 2s 6ms/step - loss: 9.6836e-04 - roc_auc: 1.0000 - val_loss: 1.5944 - val_roc_auc: 0.8474\n"
     ]
    }
   ],
   "source": [
    "history = best_model.fit(X_train, y_train, validation_split=0.2, epochs=50)"
   ]
  },
  {
   "cell_type": "markdown",
   "id": "f24a4b44",
   "metadata": {
    "papermill": {
     "duration": 0.428422,
     "end_time": "2021-10-12T00:18:33.584403",
     "exception": false,
     "start_time": "2021-10-12T00:18:33.155981",
     "status": "completed"
    },
    "tags": []
   },
   "source": [
    "# Predictions on Validation Set"
   ]
  },
  {
   "cell_type": "code",
   "execution_count": 19,
   "id": "b1aa8dc2",
   "metadata": {
    "execution": {
     "iopub.execute_input": "2021-10-12T00:18:34.485309Z",
     "iopub.status.busy": "2021-10-12T00:18:34.484517Z",
     "iopub.status.idle": "2021-10-12T00:18:34.722373Z",
     "shell.execute_reply": "2021-10-12T00:18:34.721656Z",
     "shell.execute_reply.started": "2021-10-11T23:43:20.677805Z"
    },
    "papermill": {
     "duration": 0.670523,
     "end_time": "2021-10-12T00:18:34.722512",
     "exception": false,
     "start_time": "2021-10-12T00:18:34.051989",
     "status": "completed"
    },
    "tags": []
   },
   "outputs": [
    {
     "data": {
      "text/html": [
       "<div>\n",
       "<style scoped>\n",
       "    .dataframe tbody tr th:only-of-type {\n",
       "        vertical-align: middle;\n",
       "    }\n",
       "\n",
       "    .dataframe tbody tr th {\n",
       "        vertical-align: top;\n",
       "    }\n",
       "\n",
       "    .dataframe thead th {\n",
       "        text-align: right;\n",
       "    }\n",
       "</style>\n",
       "<table border=\"1\" class=\"dataframe\">\n",
       "  <thead>\n",
       "    <tr style=\"text-align: right;\">\n",
       "      <th></th>\n",
       "      <th>BraTS21ID</th>\n",
       "      <th>MGMT_value</th>\n",
       "    </tr>\n",
       "  </thead>\n",
       "  <tbody>\n",
       "    <tr>\n",
       "      <th>0</th>\n",
       "      <td>0</td>\n",
       "      <td>1.000000</td>\n",
       "    </tr>\n",
       "    <tr>\n",
       "      <th>1</th>\n",
       "      <td>2</td>\n",
       "      <td>0.800000</td>\n",
       "    </tr>\n",
       "    <tr>\n",
       "      <th>2</th>\n",
       "      <td>3</td>\n",
       "      <td>0.200000</td>\n",
       "    </tr>\n",
       "    <tr>\n",
       "      <th>3</th>\n",
       "      <td>5</td>\n",
       "      <td>0.400000</td>\n",
       "    </tr>\n",
       "    <tr>\n",
       "      <th>4</th>\n",
       "      <td>6</td>\n",
       "      <td>0.400000</td>\n",
       "    </tr>\n",
       "    <tr>\n",
       "      <th>...</th>\n",
       "      <td>...</td>\n",
       "      <td>...</td>\n",
       "    </tr>\n",
       "    <tr>\n",
       "      <th>535</th>\n",
       "      <td>1004</td>\n",
       "      <td>0.428571</td>\n",
       "    </tr>\n",
       "    <tr>\n",
       "      <th>536</th>\n",
       "      <td>1005</td>\n",
       "      <td>0.000000</td>\n",
       "    </tr>\n",
       "    <tr>\n",
       "      <th>537</th>\n",
       "      <td>1007</td>\n",
       "      <td>0.750000</td>\n",
       "    </tr>\n",
       "    <tr>\n",
       "      <th>538</th>\n",
       "      <td>1008</td>\n",
       "      <td>0.666667</td>\n",
       "    </tr>\n",
       "    <tr>\n",
       "      <th>539</th>\n",
       "      <td>1010</td>\n",
       "      <td>0.000000</td>\n",
       "    </tr>\n",
       "  </tbody>\n",
       "</table>\n",
       "<p>540 rows × 2 columns</p>\n",
       "</div>"
      ],
      "text/plain": [
       "     BraTS21ID  MGMT_value\n",
       "0            0    1.000000\n",
       "1            2    0.800000\n",
       "2            3    0.200000\n",
       "3            5    0.400000\n",
       "4            6    0.400000\n",
       "..         ...         ...\n",
       "535       1004    0.428571\n",
       "536       1005    0.000000\n",
       "537       1007    0.750000\n",
       "538       1008    0.666667\n",
       "539       1010    0.000000\n",
       "\n",
       "[540 rows x 2 columns]"
      ]
     },
     "execution_count": 19,
     "metadata": {},
     "output_type": "execute_result"
    }
   ],
   "source": [
    "y_pred = best_model.predict(X_valid)\n",
    "\n",
    "pred = np.argmax(y_pred, axis=1)\n",
    "\n",
    "result = pd.DataFrame(trainidt_valid)\n",
    "result[1] = pred\n",
    "\n",
    "result.columns = [\"BraTS21ID\", \"MGMT_value\"]\n",
    "result2 = result.groupby(\"BraTS21ID\", as_index=False).mean()\n",
    "result2"
   ]
  },
  {
   "cell_type": "code",
   "execution_count": 20,
   "id": "8c7369f8",
   "metadata": {
    "execution": {
     "iopub.execute_input": "2021-10-12T00:18:35.595162Z",
     "iopub.status.busy": "2021-10-12T00:18:35.591548Z",
     "iopub.status.idle": "2021-10-12T00:18:35.611694Z",
     "shell.execute_reply": "2021-10-12T00:18:35.612179Z",
     "shell.execute_reply.started": "2021-10-11T23:43:20.679370Z"
    },
    "papermill": {
     "duration": 0.453115,
     "end_time": "2021-10-12T00:18:35.612319",
     "exception": false,
     "start_time": "2021-10-12T00:18:35.159204",
     "status": "completed"
    },
    "tags": []
   },
   "outputs": [
    {
     "data": {
      "text/html": [
       "<div>\n",
       "<style scoped>\n",
       "    .dataframe tbody tr th:only-of-type {\n",
       "        vertical-align: middle;\n",
       "    }\n",
       "\n",
       "    .dataframe tbody tr th {\n",
       "        vertical-align: top;\n",
       "    }\n",
       "\n",
       "    .dataframe thead th {\n",
       "        text-align: right;\n",
       "    }\n",
       "</style>\n",
       "<table border=\"1\" class=\"dataframe\">\n",
       "  <thead>\n",
       "    <tr style=\"text-align: right;\">\n",
       "      <th></th>\n",
       "      <th>BraTS21ID</th>\n",
       "      <th>MGMT_value_x</th>\n",
       "      <th>MGMT_value_y</th>\n",
       "      <th>kfold</th>\n",
       "    </tr>\n",
       "  </thead>\n",
       "  <tbody>\n",
       "    <tr>\n",
       "      <th>0</th>\n",
       "      <td>0</td>\n",
       "      <td>1.000000</td>\n",
       "      <td>1</td>\n",
       "      <td>1</td>\n",
       "    </tr>\n",
       "    <tr>\n",
       "      <th>1</th>\n",
       "      <td>2</td>\n",
       "      <td>0.800000</td>\n",
       "      <td>1</td>\n",
       "      <td>4</td>\n",
       "    </tr>\n",
       "    <tr>\n",
       "      <th>2</th>\n",
       "      <td>3</td>\n",
       "      <td>0.200000</td>\n",
       "      <td>0</td>\n",
       "      <td>0</td>\n",
       "    </tr>\n",
       "    <tr>\n",
       "      <th>3</th>\n",
       "      <td>5</td>\n",
       "      <td>0.400000</td>\n",
       "      <td>1</td>\n",
       "      <td>2</td>\n",
       "    </tr>\n",
       "    <tr>\n",
       "      <th>4</th>\n",
       "      <td>6</td>\n",
       "      <td>0.400000</td>\n",
       "      <td>1</td>\n",
       "      <td>3</td>\n",
       "    </tr>\n",
       "    <tr>\n",
       "      <th>...</th>\n",
       "      <td>...</td>\n",
       "      <td>...</td>\n",
       "      <td>...</td>\n",
       "      <td>...</td>\n",
       "    </tr>\n",
       "    <tr>\n",
       "      <th>535</th>\n",
       "      <td>1004</td>\n",
       "      <td>0.428571</td>\n",
       "      <td>0</td>\n",
       "      <td>4</td>\n",
       "    </tr>\n",
       "    <tr>\n",
       "      <th>536</th>\n",
       "      <td>1005</td>\n",
       "      <td>0.000000</td>\n",
       "      <td>1</td>\n",
       "      <td>0</td>\n",
       "    </tr>\n",
       "    <tr>\n",
       "      <th>537</th>\n",
       "      <td>1007</td>\n",
       "      <td>0.750000</td>\n",
       "      <td>1</td>\n",
       "      <td>0</td>\n",
       "    </tr>\n",
       "    <tr>\n",
       "      <th>538</th>\n",
       "      <td>1008</td>\n",
       "      <td>0.666667</td>\n",
       "      <td>1</td>\n",
       "      <td>4</td>\n",
       "    </tr>\n",
       "    <tr>\n",
       "      <th>539</th>\n",
       "      <td>1010</td>\n",
       "      <td>0.000000</td>\n",
       "      <td>0</td>\n",
       "      <td>1</td>\n",
       "    </tr>\n",
       "  </tbody>\n",
       "</table>\n",
       "<p>540 rows × 4 columns</p>\n",
       "</div>"
      ],
      "text/plain": [
       "     BraTS21ID  MGMT_value_x  MGMT_value_y  kfold\n",
       "0            0      1.000000             1      1\n",
       "1            2      0.800000             1      4\n",
       "2            3      0.200000             0      0\n",
       "3            5      0.400000             1      2\n",
       "4            6      0.400000             1      3\n",
       "..         ...           ...           ...    ...\n",
       "535       1004      0.428571             0      4\n",
       "536       1005      0.000000             1      0\n",
       "537       1007      0.750000             1      0\n",
       "538       1008      0.666667             1      4\n",
       "539       1010      0.000000             0      1\n",
       "\n",
       "[540 rows x 4 columns]"
      ]
     },
     "execution_count": 20,
     "metadata": {},
     "output_type": "execute_result"
    }
   ],
   "source": [
    "result2 = result2.merge(train_df, on=\"BraTS21ID\")\n",
    "result2"
   ]
  },
  {
   "cell_type": "code",
   "execution_count": 21,
   "id": "c2ea8c8a",
   "metadata": {
    "execution": {
     "iopub.execute_input": "2021-10-12T00:18:36.477028Z",
     "iopub.status.busy": "2021-10-12T00:18:36.476472Z",
     "iopub.status.idle": "2021-10-12T00:18:36.482498Z",
     "shell.execute_reply": "2021-10-12T00:18:36.482089Z",
     "shell.execute_reply.started": "2021-10-11T23:43:20.683764Z"
    },
    "papermill": {
     "duration": 0.439482,
     "end_time": "2021-10-12T00:18:36.482610",
     "exception": false,
     "start_time": "2021-10-12T00:18:36.043128",
     "status": "completed"
    },
    "tags": []
   },
   "outputs": [
    {
     "name": "stdout",
     "output_type": "stream",
     "text": [
      "Validation AUC=0.905533575042391\n"
     ]
    }
   ],
   "source": [
    "auc = roc_auc_score(\n",
    "    result2.MGMT_value_y,\n",
    "    result2.MGMT_value_x,\n",
    ")\n",
    "print(f\"Validation AUC={auc}\")\n"
   ]
  },
  {
   "cell_type": "markdown",
   "id": "b8ebdd4a",
   "metadata": {
    "papermill": {
     "duration": 0.428821,
     "end_time": "2021-10-12T00:18:37.343837",
     "exception": false,
     "start_time": "2021-10-12T00:18:36.915016",
     "status": "completed"
    },
    "tags": []
   },
   "source": [
    "# Predictions on the Test Set"
   ]
  },
  {
   "cell_type": "code",
   "execution_count": 22,
   "id": "7cdd2ab2",
   "metadata": {
    "execution": {
     "iopub.execute_input": "2021-10-12T00:18:38.214431Z",
     "iopub.status.busy": "2021-10-12T00:18:38.213466Z",
     "iopub.status.idle": "2021-10-12T00:18:38.395275Z",
     "shell.execute_reply": "2021-10-12T00:18:38.394845Z",
     "shell.execute_reply.started": "2021-10-11T23:43:20.685421Z"
    },
    "papermill": {
     "duration": 0.614604,
     "end_time": "2021-10-12T00:18:38.395399",
     "exception": false,
     "start_time": "2021-10-12T00:18:37.780795",
     "status": "completed"
    },
    "tags": []
   },
   "outputs": [
    {
     "data": {
      "text/plain": [
       "array([0, 1, 0, ..., 1, 1, 1])"
      ]
     },
     "execution_count": 22,
     "metadata": {},
     "output_type": "execute_result"
    }
   ],
   "source": [
    "y_pred = best_model.predict(X_test)\n",
    "\n",
    "pred = np.argmax(y_pred, axis=1) #\n",
    "\n",
    "result = pd.DataFrame(testidt)\n",
    "result[1] = pred\n",
    "pred"
   ]
  },
  {
   "cell_type": "markdown",
   "id": "465f71f3",
   "metadata": {
    "papermill": {
     "duration": 0.450756,
     "end_time": "2021-10-12T00:18:39.502891",
     "exception": false,
     "start_time": "2021-10-12T00:18:39.052135",
     "status": "completed"
    },
    "tags": []
   },
   "source": [
    "# Submission File"
   ]
  },
  {
   "cell_type": "code",
   "execution_count": 23,
   "id": "a974f1ee",
   "metadata": {
    "execution": {
     "iopub.execute_input": "2021-10-12T00:18:40.374404Z",
     "iopub.status.busy": "2021-10-12T00:18:40.373488Z",
     "iopub.status.idle": "2021-10-12T00:18:40.387473Z",
     "shell.execute_reply": "2021-10-12T00:18:40.388014Z",
     "shell.execute_reply.started": "2021-10-11T23:43:20.689085Z"
    },
    "papermill": {
     "duration": 0.450464,
     "end_time": "2021-10-12T00:18:40.388209",
     "exception": false,
     "start_time": "2021-10-12T00:18:39.937745",
     "status": "completed"
    },
    "tags": []
   },
   "outputs": [
    {
     "data": {
      "text/html": [
       "<div>\n",
       "<style scoped>\n",
       "    .dataframe tbody tr th:only-of-type {\n",
       "        vertical-align: middle;\n",
       "    }\n",
       "\n",
       "    .dataframe tbody tr th {\n",
       "        vertical-align: top;\n",
       "    }\n",
       "\n",
       "    .dataframe thead th {\n",
       "        text-align: right;\n",
       "    }\n",
       "</style>\n",
       "<table border=\"1\" class=\"dataframe\">\n",
       "  <thead>\n",
       "    <tr style=\"text-align: right;\">\n",
       "      <th></th>\n",
       "      <th>BraTS21ID</th>\n",
       "      <th>MGMT_value</th>\n",
       "    </tr>\n",
       "  </thead>\n",
       "  <tbody>\n",
       "    <tr>\n",
       "      <th>0</th>\n",
       "      <td>1</td>\n",
       "      <td>0.818182</td>\n",
       "    </tr>\n",
       "    <tr>\n",
       "      <th>1</th>\n",
       "      <td>13</td>\n",
       "      <td>0.681818</td>\n",
       "    </tr>\n",
       "    <tr>\n",
       "      <th>2</th>\n",
       "      <td>15</td>\n",
       "      <td>0.803922</td>\n",
       "    </tr>\n",
       "    <tr>\n",
       "      <th>3</th>\n",
       "      <td>27</td>\n",
       "      <td>0.882353</td>\n",
       "    </tr>\n",
       "    <tr>\n",
       "      <th>4</th>\n",
       "      <td>37</td>\n",
       "      <td>0.818182</td>\n",
       "    </tr>\n",
       "    <tr>\n",
       "      <th>...</th>\n",
       "      <td>...</td>\n",
       "      <td>...</td>\n",
       "    </tr>\n",
       "    <tr>\n",
       "      <th>82</th>\n",
       "      <td>826</td>\n",
       "      <td>0.785714</td>\n",
       "    </tr>\n",
       "    <tr>\n",
       "      <th>83</th>\n",
       "      <td>829</td>\n",
       "      <td>0.200000</td>\n",
       "    </tr>\n",
       "    <tr>\n",
       "      <th>84</th>\n",
       "      <td>833</td>\n",
       "      <td>0.500000</td>\n",
       "    </tr>\n",
       "    <tr>\n",
       "      <th>85</th>\n",
       "      <td>997</td>\n",
       "      <td>0.500000</td>\n",
       "    </tr>\n",
       "    <tr>\n",
       "      <th>86</th>\n",
       "      <td>1006</td>\n",
       "      <td>0.761905</td>\n",
       "    </tr>\n",
       "  </tbody>\n",
       "</table>\n",
       "<p>87 rows × 2 columns</p>\n",
       "</div>"
      ],
      "text/plain": [
       "    BraTS21ID  MGMT_value\n",
       "0           1    0.818182\n",
       "1          13    0.681818\n",
       "2          15    0.803922\n",
       "3          27    0.882353\n",
       "4          37    0.818182\n",
       "..        ...         ...\n",
       "82        826    0.785714\n",
       "83        829    0.200000\n",
       "84        833    0.500000\n",
       "85        997    0.500000\n",
       "86       1006    0.761905\n",
       "\n",
       "[87 rows x 2 columns]"
      ]
     },
     "execution_count": 23,
     "metadata": {},
     "output_type": "execute_result"
    }
   ],
   "source": [
    "result.columns=['BraTS21ID','MGMT_value']\n",
    "\n",
    "result2 = result.groupby('BraTS21ID',as_index=False).mean()\n",
    "result2['BraTS21ID'] = sample_submission['BraTS21ID']\n",
    "\n",
    "result2"
   ]
  },
  {
   "cell_type": "code",
   "execution_count": 24,
   "id": "d8ebcd5d",
   "metadata": {
    "execution": {
     "iopub.execute_input": "2021-10-12T00:18:41.272836Z",
     "iopub.status.busy": "2021-10-12T00:18:41.272111Z",
     "iopub.status.idle": "2021-10-12T00:18:41.285953Z",
     "shell.execute_reply": "2021-10-12T00:18:41.285411Z",
     "shell.execute_reply.started": "2021-10-11T23:43:20.692659Z"
    },
    "papermill": {
     "duration": 0.450318,
     "end_time": "2021-10-12T00:18:41.286080",
     "exception": false,
     "start_time": "2021-10-12T00:18:40.835762",
     "status": "completed"
    },
    "tags": []
   },
   "outputs": [
    {
     "data": {
      "text/html": [
       "<div>\n",
       "<style scoped>\n",
       "    .dataframe tbody tr th:only-of-type {\n",
       "        vertical-align: middle;\n",
       "    }\n",
       "\n",
       "    .dataframe tbody tr th {\n",
       "        vertical-align: top;\n",
       "    }\n",
       "\n",
       "    .dataframe thead th {\n",
       "        text-align: right;\n",
       "    }\n",
       "</style>\n",
       "<table border=\"1\" class=\"dataframe\">\n",
       "  <thead>\n",
       "    <tr style=\"text-align: right;\">\n",
       "      <th></th>\n",
       "      <th>BraTS21ID</th>\n",
       "      <th>MGMT_value</th>\n",
       "    </tr>\n",
       "  </thead>\n",
       "  <tbody>\n",
       "    <tr>\n",
       "      <th>0</th>\n",
       "      <td>1</td>\n",
       "      <td>0.8</td>\n",
       "    </tr>\n",
       "    <tr>\n",
       "      <th>1</th>\n",
       "      <td>13</td>\n",
       "      <td>0.7</td>\n",
       "    </tr>\n",
       "    <tr>\n",
       "      <th>2</th>\n",
       "      <td>15</td>\n",
       "      <td>0.8</td>\n",
       "    </tr>\n",
       "    <tr>\n",
       "      <th>3</th>\n",
       "      <td>27</td>\n",
       "      <td>0.9</td>\n",
       "    </tr>\n",
       "    <tr>\n",
       "      <th>4</th>\n",
       "      <td>37</td>\n",
       "      <td>0.8</td>\n",
       "    </tr>\n",
       "    <tr>\n",
       "      <th>...</th>\n",
       "      <td>...</td>\n",
       "      <td>...</td>\n",
       "    </tr>\n",
       "    <tr>\n",
       "      <th>82</th>\n",
       "      <td>826</td>\n",
       "      <td>0.8</td>\n",
       "    </tr>\n",
       "    <tr>\n",
       "      <th>83</th>\n",
       "      <td>829</td>\n",
       "      <td>0.2</td>\n",
       "    </tr>\n",
       "    <tr>\n",
       "      <th>84</th>\n",
       "      <td>833</td>\n",
       "      <td>0.5</td>\n",
       "    </tr>\n",
       "    <tr>\n",
       "      <th>85</th>\n",
       "      <td>997</td>\n",
       "      <td>0.5</td>\n",
       "    </tr>\n",
       "    <tr>\n",
       "      <th>86</th>\n",
       "      <td>1006</td>\n",
       "      <td>0.8</td>\n",
       "    </tr>\n",
       "  </tbody>\n",
       "</table>\n",
       "<p>87 rows × 2 columns</p>\n",
       "</div>"
      ],
      "text/plain": [
       "    BraTS21ID  MGMT_value\n",
       "0           1         0.8\n",
       "1          13         0.7\n",
       "2          15         0.8\n",
       "3          27         0.9\n",
       "4          37         0.8\n",
       "..        ...         ...\n",
       "82        826         0.8\n",
       "83        829         0.2\n",
       "84        833         0.5\n",
       "85        997         0.5\n",
       "86       1006         0.8\n",
       "\n",
       "[87 rows x 2 columns]"
      ]
     },
     "execution_count": 24,
     "metadata": {},
     "output_type": "execute_result"
    }
   ],
   "source": [
    "# Rounding... 0.907866 -> 0.9\n",
    "result2['MGMT_value'] = result2['MGMT_value'].apply(lambda x:round(x*10)/10)\n",
    "# result2['MGMT_value'] = result2['MGMT_value'] # No rounding\n",
    "result2.to_csv('submission.csv',index=False)\n",
    "result2"
   ]
  }
 ],
 "metadata": {
  "kernelspec": {
   "display_name": "Python 3",
   "language": "python",
   "name": "python3"
  },
  "language_info": {
   "codemirror_mode": {
    "name": "ipython",
    "version": 3
   },
   "file_extension": ".py",
   "mimetype": "text/x-python",
   "name": "python",
   "nbconvert_exporter": "python",
   "pygments_lexer": "ipython3",
   "version": "3.7.10"
  },
  "papermill": {
   "default_parameters": {},
   "duration": 510.800921,
   "end_time": "2021-10-12T00:18:44.474229",
   "environment_variables": {},
   "exception": null,
   "input_path": "__notebook__.ipynb",
   "output_path": "__notebook__.ipynb",
   "parameters": {},
   "start_time": "2021-10-12T00:10:13.673308",
   "version": "2.3.3"
  },
  "widgets": {
   "application/vnd.jupyter.widget-state+json": {
    "state": {
     "043b6a983fa44eadb985072e38793ae7": {
      "model_module": "@jupyter-widgets/base",
      "model_module_version": "1.2.0",
      "model_name": "LayoutModel",
      "state": {
       "_model_module": "@jupyter-widgets/base",
       "_model_module_version": "1.2.0",
       "_model_name": "LayoutModel",
       "_view_count": null,
       "_view_module": "@jupyter-widgets/base",
       "_view_module_version": "1.2.0",
       "_view_name": "LayoutView",
       "align_content": null,
       "align_items": null,
       "align_self": null,
       "border": null,
       "bottom": null,
       "display": null,
       "flex": null,
       "flex_flow": null,
       "grid_area": null,
       "grid_auto_columns": null,
       "grid_auto_flow": null,
       "grid_auto_rows": null,
       "grid_column": null,
       "grid_gap": null,
       "grid_row": null,
       "grid_template_areas": null,
       "grid_template_columns": null,
       "grid_template_rows": null,
       "height": null,
       "justify_content": null,
       "justify_items": null,
       "left": null,
       "margin": null,
       "max_height": null,
       "max_width": null,
       "min_height": null,
       "min_width": null,
       "object_fit": null,
       "object_position": null,
       "order": null,
       "overflow": null,
       "overflow_x": null,
       "overflow_y": null,
       "padding": null,
       "right": null,
       "top": null,
       "visibility": null,
       "width": null
      }
     },
     "05bc007c34bb4ada9d02607a997518d2": {
      "model_module": "@jupyter-widgets/controls",
      "model_module_version": "1.5.0",
      "model_name": "DescriptionStyleModel",
      "state": {
       "_model_module": "@jupyter-widgets/controls",
       "_model_module_version": "1.5.0",
       "_model_name": "DescriptionStyleModel",
       "_view_count": null,
       "_view_module": "@jupyter-widgets/base",
       "_view_module_version": "1.2.0",
       "_view_name": "StyleView",
       "description_width": ""
      }
     },
     "07720e5d269f49ce98a36e749799c641": {
      "model_module": "@jupyter-widgets/controls",
      "model_module_version": "1.5.0",
      "model_name": "ProgressStyleModel",
      "state": {
       "_model_module": "@jupyter-widgets/controls",
       "_model_module_version": "1.5.0",
       "_model_name": "ProgressStyleModel",
       "_view_count": null,
       "_view_module": "@jupyter-widgets/base",
       "_view_module_version": "1.2.0",
       "_view_name": "StyleView",
       "bar_color": null,
       "description_width": ""
      }
     },
     "0ac54acc80bb412a95b75b7494778bc4": {
      "model_module": "@jupyter-widgets/base",
      "model_module_version": "1.2.0",
      "model_name": "LayoutModel",
      "state": {
       "_model_module": "@jupyter-widgets/base",
       "_model_module_version": "1.2.0",
       "_model_name": "LayoutModel",
       "_view_count": null,
       "_view_module": "@jupyter-widgets/base",
       "_view_module_version": "1.2.0",
       "_view_name": "LayoutView",
       "align_content": null,
       "align_items": null,
       "align_self": null,
       "border": null,
       "bottom": null,
       "display": null,
       "flex": null,
       "flex_flow": null,
       "grid_area": null,
       "grid_auto_columns": null,
       "grid_auto_flow": null,
       "grid_auto_rows": null,
       "grid_column": null,
       "grid_gap": null,
       "grid_row": null,
       "grid_template_areas": null,
       "grid_template_columns": null,
       "grid_template_rows": null,
       "height": null,
       "justify_content": null,
       "justify_items": null,
       "left": null,
       "margin": null,
       "max_height": null,
       "max_width": null,
       "min_height": null,
       "min_width": null,
       "object_fit": null,
       "object_position": null,
       "order": null,
       "overflow": null,
       "overflow_x": null,
       "overflow_y": null,
       "padding": null,
       "right": null,
       "top": null,
       "visibility": null,
       "width": null
      }
     },
     "10788357c5014374b58fa27c47d5512a": {
      "model_module": "@jupyter-widgets/controls",
      "model_module_version": "1.5.0",
      "model_name": "HTMLModel",
      "state": {
       "_dom_classes": [],
       "_model_module": "@jupyter-widgets/controls",
       "_model_module_version": "1.5.0",
       "_model_name": "HTMLModel",
       "_view_count": null,
       "_view_module": "@jupyter-widgets/controls",
       "_view_module_version": "1.5.0",
       "_view_name": "HTMLView",
       "description": "",
       "description_tooltip": null,
       "layout": "IPY_MODEL_b7f80ab855a04e1f98f06be4dbfb3ffa",
       "placeholder": "​",
       "style": "IPY_MODEL_05bc007c34bb4ada9d02607a997518d2",
       "value": " 87/87 [00:20&lt;00:00,  8.89it/s]"
      }
     },
     "17cd5451d41047c0830efe56af321d48": {
      "model_module": "@jupyter-widgets/controls",
      "model_module_version": "1.5.0",
      "model_name": "HBoxModel",
      "state": {
       "_dom_classes": [],
       "_model_module": "@jupyter-widgets/controls",
       "_model_module_version": "1.5.0",
       "_model_name": "HBoxModel",
       "_view_count": null,
       "_view_module": "@jupyter-widgets/controls",
       "_view_module_version": "1.5.0",
       "_view_name": "HBoxView",
       "box_style": "",
       "children": [
        "IPY_MODEL_d986afe4f0a74d0985ed7ddf4aa9d318",
        "IPY_MODEL_dc3a4b21c2a94875acc18474d5687632",
        "IPY_MODEL_b716b16c040047fcb061689d06e3b6d4"
       ],
       "layout": "IPY_MODEL_a2957a9204474ffe90aeaec56797f046"
      }
     },
     "31b291acefeb4df99d9549f69b0f70b6": {
      "model_module": "@jupyter-widgets/controls",
      "model_module_version": "1.5.0",
      "model_name": "FloatProgressModel",
      "state": {
       "_dom_classes": [],
       "_model_module": "@jupyter-widgets/controls",
       "_model_module_version": "1.5.0",
       "_model_name": "FloatProgressModel",
       "_view_count": null,
       "_view_module": "@jupyter-widgets/controls",
       "_view_module_version": "1.5.0",
       "_view_name": "ProgressView",
       "bar_style": "success",
       "description": "",
       "description_tooltip": null,
       "layout": "IPY_MODEL_043b6a983fa44eadb985072e38793ae7",
       "max": 87.0,
       "min": 0.0,
       "orientation": "horizontal",
       "style": "IPY_MODEL_07720e5d269f49ce98a36e749799c641",
       "value": 87.0
      }
     },
     "4bedec89fe174a81b2408463f01c8e33": {
      "model_module": "@jupyter-widgets/controls",
      "model_module_version": "1.5.0",
      "model_name": "DescriptionStyleModel",
      "state": {
       "_model_module": "@jupyter-widgets/controls",
       "_model_module_version": "1.5.0",
       "_model_name": "DescriptionStyleModel",
       "_view_count": null,
       "_view_module": "@jupyter-widgets/base",
       "_view_module_version": "1.2.0",
       "_view_name": "StyleView",
       "description_width": ""
      }
     },
     "88cfc7b29d784021a7cd0295f972b0a3": {
      "model_module": "@jupyter-widgets/base",
      "model_module_version": "1.2.0",
      "model_name": "LayoutModel",
      "state": {
       "_model_module": "@jupyter-widgets/base",
       "_model_module_version": "1.2.0",
       "_model_name": "LayoutModel",
       "_view_count": null,
       "_view_module": "@jupyter-widgets/base",
       "_view_module_version": "1.2.0",
       "_view_name": "LayoutView",
       "align_content": null,
       "align_items": null,
       "align_self": null,
       "border": null,
       "bottom": null,
       "display": null,
       "flex": null,
       "flex_flow": null,
       "grid_area": null,
       "grid_auto_columns": null,
       "grid_auto_flow": null,
       "grid_auto_rows": null,
       "grid_column": null,
       "grid_gap": null,
       "grid_row": null,
       "grid_template_areas": null,
       "grid_template_columns": null,
       "grid_template_rows": null,
       "height": null,
       "justify_content": null,
       "justify_items": null,
       "left": null,
       "margin": null,
       "max_height": null,
       "max_width": null,
       "min_height": null,
       "min_width": null,
       "object_fit": null,
       "object_position": null,
       "order": null,
       "overflow": null,
       "overflow_x": null,
       "overflow_y": null,
       "padding": null,
       "right": null,
       "top": null,
       "visibility": null,
       "width": null
      }
     },
     "98cc94e07c2249cda352b59eb1e0ded2": {
      "model_module": "@jupyter-widgets/controls",
      "model_module_version": "1.5.0",
      "model_name": "DescriptionStyleModel",
      "state": {
       "_model_module": "@jupyter-widgets/controls",
       "_model_module_version": "1.5.0",
       "_model_name": "DescriptionStyleModel",
       "_view_count": null,
       "_view_module": "@jupyter-widgets/base",
       "_view_module_version": "1.2.0",
       "_view_name": "StyleView",
       "description_width": ""
      }
     },
     "a2957a9204474ffe90aeaec56797f046": {
      "model_module": "@jupyter-widgets/base",
      "model_module_version": "1.2.0",
      "model_name": "LayoutModel",
      "state": {
       "_model_module": "@jupyter-widgets/base",
       "_model_module_version": "1.2.0",
       "_model_name": "LayoutModel",
       "_view_count": null,
       "_view_module": "@jupyter-widgets/base",
       "_view_module_version": "1.2.0",
       "_view_name": "LayoutView",
       "align_content": null,
       "align_items": null,
       "align_self": null,
       "border": null,
       "bottom": null,
       "display": null,
       "flex": null,
       "flex_flow": null,
       "grid_area": null,
       "grid_auto_columns": null,
       "grid_auto_flow": null,
       "grid_auto_rows": null,
       "grid_column": null,
       "grid_gap": null,
       "grid_row": null,
       "grid_template_areas": null,
       "grid_template_columns": null,
       "grid_template_rows": null,
       "height": null,
       "justify_content": null,
       "justify_items": null,
       "left": null,
       "margin": null,
       "max_height": null,
       "max_width": null,
       "min_height": null,
       "min_width": null,
       "object_fit": null,
       "object_position": null,
       "order": null,
       "overflow": null,
       "overflow_x": null,
       "overflow_y": null,
       "padding": null,
       "right": null,
       "top": null,
       "visibility": null,
       "width": null
      }
     },
     "ac4930b7da244978967a5f9ca0851df7": {
      "model_module": "@jupyter-widgets/controls",
      "model_module_version": "1.5.0",
      "model_name": "DescriptionStyleModel",
      "state": {
       "_model_module": "@jupyter-widgets/controls",
       "_model_module_version": "1.5.0",
       "_model_name": "DescriptionStyleModel",
       "_view_count": null,
       "_view_module": "@jupyter-widgets/base",
       "_view_module_version": "1.2.0",
       "_view_name": "StyleView",
       "description_width": ""
      }
     },
     "b716b16c040047fcb061689d06e3b6d4": {
      "model_module": "@jupyter-widgets/controls",
      "model_module_version": "1.5.0",
      "model_name": "HTMLModel",
      "state": {
       "_dom_classes": [],
       "_model_module": "@jupyter-widgets/controls",
       "_model_module_version": "1.5.0",
       "_model_name": "HTMLModel",
       "_view_count": null,
       "_view_module": "@jupyter-widgets/controls",
       "_view_module_version": "1.5.0",
       "_view_name": "HTMLView",
       "description": "",
       "description_tooltip": null,
       "layout": "IPY_MODEL_bbde458c2a114b1d89b7bafce5cb702a",
       "placeholder": "​",
       "style": "IPY_MODEL_98cc94e07c2249cda352b59eb1e0ded2",
       "value": " 582/582 [02:22&lt;00:00,  7.66it/s]"
      }
     },
     "b7f80ab855a04e1f98f06be4dbfb3ffa": {
      "model_module": "@jupyter-widgets/base",
      "model_module_version": "1.2.0",
      "model_name": "LayoutModel",
      "state": {
       "_model_module": "@jupyter-widgets/base",
       "_model_module_version": "1.2.0",
       "_model_name": "LayoutModel",
       "_view_count": null,
       "_view_module": "@jupyter-widgets/base",
       "_view_module_version": "1.2.0",
       "_view_name": "LayoutView",
       "align_content": null,
       "align_items": null,
       "align_self": null,
       "border": null,
       "bottom": null,
       "display": null,
       "flex": null,
       "flex_flow": null,
       "grid_area": null,
       "grid_auto_columns": null,
       "grid_auto_flow": null,
       "grid_auto_rows": null,
       "grid_column": null,
       "grid_gap": null,
       "grid_row": null,
       "grid_template_areas": null,
       "grid_template_columns": null,
       "grid_template_rows": null,
       "height": null,
       "justify_content": null,
       "justify_items": null,
       "left": null,
       "margin": null,
       "max_height": null,
       "max_width": null,
       "min_height": null,
       "min_width": null,
       "object_fit": null,
       "object_position": null,
       "order": null,
       "overflow": null,
       "overflow_x": null,
       "overflow_y": null,
       "padding": null,
       "right": null,
       "top": null,
       "visibility": null,
       "width": null
      }
     },
     "bbde458c2a114b1d89b7bafce5cb702a": {
      "model_module": "@jupyter-widgets/base",
      "model_module_version": "1.2.0",
      "model_name": "LayoutModel",
      "state": {
       "_model_module": "@jupyter-widgets/base",
       "_model_module_version": "1.2.0",
       "_model_name": "LayoutModel",
       "_view_count": null,
       "_view_module": "@jupyter-widgets/base",
       "_view_module_version": "1.2.0",
       "_view_name": "LayoutView",
       "align_content": null,
       "align_items": null,
       "align_self": null,
       "border": null,
       "bottom": null,
       "display": null,
       "flex": null,
       "flex_flow": null,
       "grid_area": null,
       "grid_auto_columns": null,
       "grid_auto_flow": null,
       "grid_auto_rows": null,
       "grid_column": null,
       "grid_gap": null,
       "grid_row": null,
       "grid_template_areas": null,
       "grid_template_columns": null,
       "grid_template_rows": null,
       "height": null,
       "justify_content": null,
       "justify_items": null,
       "left": null,
       "margin": null,
       "max_height": null,
       "max_width": null,
       "min_height": null,
       "min_width": null,
       "object_fit": null,
       "object_position": null,
       "order": null,
       "overflow": null,
       "overflow_x": null,
       "overflow_y": null,
       "padding": null,
       "right": null,
       "top": null,
       "visibility": null,
       "width": null
      }
     },
     "c6e48db572654d898616fcdb33d47f4d": {
      "model_module": "@jupyter-widgets/controls",
      "model_module_version": "1.5.0",
      "model_name": "HBoxModel",
      "state": {
       "_dom_classes": [],
       "_model_module": "@jupyter-widgets/controls",
       "_model_module_version": "1.5.0",
       "_model_name": "HBoxModel",
       "_view_count": null,
       "_view_module": "@jupyter-widgets/controls",
       "_view_module_version": "1.5.0",
       "_view_name": "HBoxView",
       "box_style": "",
       "children": [
        "IPY_MODEL_e3746228fe704f758a2f823f6af06b11",
        "IPY_MODEL_31b291acefeb4df99d9549f69b0f70b6",
        "IPY_MODEL_10788357c5014374b58fa27c47d5512a"
       ],
       "layout": "IPY_MODEL_f96338fef7e547b78249c822e8b55a96"
      }
     },
     "d730562cfe18454d975b2282afa6df8a": {
      "model_module": "@jupyter-widgets/controls",
      "model_module_version": "1.5.0",
      "model_name": "ProgressStyleModel",
      "state": {
       "_model_module": "@jupyter-widgets/controls",
       "_model_module_version": "1.5.0",
       "_model_name": "ProgressStyleModel",
       "_view_count": null,
       "_view_module": "@jupyter-widgets/base",
       "_view_module_version": "1.2.0",
       "_view_name": "StyleView",
       "bar_color": null,
       "description_width": ""
      }
     },
     "d986afe4f0a74d0985ed7ddf4aa9d318": {
      "model_module": "@jupyter-widgets/controls",
      "model_module_version": "1.5.0",
      "model_name": "HTMLModel",
      "state": {
       "_dom_classes": [],
       "_model_module": "@jupyter-widgets/controls",
       "_model_module_version": "1.5.0",
       "_model_name": "HTMLModel",
       "_view_count": null,
       "_view_module": "@jupyter-widgets/controls",
       "_view_module_version": "1.5.0",
       "_view_name": "HTMLView",
       "description": "",
       "description_tooltip": null,
       "layout": "IPY_MODEL_0ac54acc80bb412a95b75b7494778bc4",
       "placeholder": "​",
       "style": "IPY_MODEL_4bedec89fe174a81b2408463f01c8e33",
       "value": "100%"
      }
     },
     "dc3a4b21c2a94875acc18474d5687632": {
      "model_module": "@jupyter-widgets/controls",
      "model_module_version": "1.5.0",
      "model_name": "FloatProgressModel",
      "state": {
       "_dom_classes": [],
       "_model_module": "@jupyter-widgets/controls",
       "_model_module_version": "1.5.0",
       "_model_name": "FloatProgressModel",
       "_view_count": null,
       "_view_module": "@jupyter-widgets/controls",
       "_view_module_version": "1.5.0",
       "_view_name": "ProgressView",
       "bar_style": "success",
       "description": "",
       "description_tooltip": null,
       "layout": "IPY_MODEL_e9a880a656d14120b5288ae43885b1b1",
       "max": 582.0,
       "min": 0.0,
       "orientation": "horizontal",
       "style": "IPY_MODEL_d730562cfe18454d975b2282afa6df8a",
       "value": 582.0
      }
     },
     "e3746228fe704f758a2f823f6af06b11": {
      "model_module": "@jupyter-widgets/controls",
      "model_module_version": "1.5.0",
      "model_name": "HTMLModel",
      "state": {
       "_dom_classes": [],
       "_model_module": "@jupyter-widgets/controls",
       "_model_module_version": "1.5.0",
       "_model_name": "HTMLModel",
       "_view_count": null,
       "_view_module": "@jupyter-widgets/controls",
       "_view_module_version": "1.5.0",
       "_view_name": "HTMLView",
       "description": "",
       "description_tooltip": null,
       "layout": "IPY_MODEL_88cfc7b29d784021a7cd0295f972b0a3",
       "placeholder": "​",
       "style": "IPY_MODEL_ac4930b7da244978967a5f9ca0851df7",
       "value": "100%"
      }
     },
     "e9a880a656d14120b5288ae43885b1b1": {
      "model_module": "@jupyter-widgets/base",
      "model_module_version": "1.2.0",
      "model_name": "LayoutModel",
      "state": {
       "_model_module": "@jupyter-widgets/base",
       "_model_module_version": "1.2.0",
       "_model_name": "LayoutModel",
       "_view_count": null,
       "_view_module": "@jupyter-widgets/base",
       "_view_module_version": "1.2.0",
       "_view_name": "LayoutView",
       "align_content": null,
       "align_items": null,
       "align_self": null,
       "border": null,
       "bottom": null,
       "display": null,
       "flex": null,
       "flex_flow": null,
       "grid_area": null,
       "grid_auto_columns": null,
       "grid_auto_flow": null,
       "grid_auto_rows": null,
       "grid_column": null,
       "grid_gap": null,
       "grid_row": null,
       "grid_template_areas": null,
       "grid_template_columns": null,
       "grid_template_rows": null,
       "height": null,
       "justify_content": null,
       "justify_items": null,
       "left": null,
       "margin": null,
       "max_height": null,
       "max_width": null,
       "min_height": null,
       "min_width": null,
       "object_fit": null,
       "object_position": null,
       "order": null,
       "overflow": null,
       "overflow_x": null,
       "overflow_y": null,
       "padding": null,
       "right": null,
       "top": null,
       "visibility": null,
       "width": null
      }
     },
     "f96338fef7e547b78249c822e8b55a96": {
      "model_module": "@jupyter-widgets/base",
      "model_module_version": "1.2.0",
      "model_name": "LayoutModel",
      "state": {
       "_model_module": "@jupyter-widgets/base",
       "_model_module_version": "1.2.0",
       "_model_name": "LayoutModel",
       "_view_count": null,
       "_view_module": "@jupyter-widgets/base",
       "_view_module_version": "1.2.0",
       "_view_name": "LayoutView",
       "align_content": null,
       "align_items": null,
       "align_self": null,
       "border": null,
       "bottom": null,
       "display": null,
       "flex": null,
       "flex_flow": null,
       "grid_area": null,
       "grid_auto_columns": null,
       "grid_auto_flow": null,
       "grid_auto_rows": null,
       "grid_column": null,
       "grid_gap": null,
       "grid_row": null,
       "grid_template_areas": null,
       "grid_template_columns": null,
       "grid_template_rows": null,
       "height": null,
       "justify_content": null,
       "justify_items": null,
       "left": null,
       "margin": null,
       "max_height": null,
       "max_width": null,
       "min_height": null,
       "min_width": null,
       "object_fit": null,
       "object_position": null,
       "order": null,
       "overflow": null,
       "overflow_x": null,
       "overflow_y": null,
       "padding": null,
       "right": null,
       "top": null,
       "visibility": null,
       "width": null
      }
     }
    },
    "version_major": 2,
    "version_minor": 0
   }
  }
 },
 "nbformat": 4,
 "nbformat_minor": 5
}
